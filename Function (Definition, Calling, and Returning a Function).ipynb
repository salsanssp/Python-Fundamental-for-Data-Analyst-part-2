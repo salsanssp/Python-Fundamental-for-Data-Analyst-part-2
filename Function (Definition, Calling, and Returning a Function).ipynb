{
 "cells": [
  {
   "cell_type": "markdown",
   "id": "8c101f7e-0f8d-43bf-91e0-9ae58e67a8b3",
   "metadata": {},
   "source": [
    "# Function\n",
    "\n",
    "* In mathematics, a function is a process that relates an input to an output.\n",
    "* In Python, besides being a relation function, a function is also a way to organize code - with the ultimate goal of reusable code.\n",
    "* Functions are best when they have a specific purpose but can be reused.\n",
    "* Python provides common functions.\n",
    "* However, we can always define our own functions."
   ]
  },
  {
   "cell_type": "markdown",
   "id": "cb03acad-e3fe-4cd3-8220-2218aa141157",
   "metadata": {},
   "source": [
    "## Defining a function:\n",
    "\n",
    "* Functions are defined using the keyword def followed by the function name and its parameters enclosed in parentheses ().\n",
    "* Optionally, you can add a docstring - a documentation string that explains the function's context.\n",
    "* The code block within each function starts with a colon and uses indentation.\n",
    "* A function terminates when there is a return statement [expression] that returns [expression] to the caller.\n",
    "* You can also create functions that do not return output by using return none."
   ]
  },
  {
   "cell_type": "code",
   "execution_count": 3,
   "id": "69d2fe1a-a48a-444d-b009-6378c5635a98",
   "metadata": {},
   "outputs": [],
   "source": [
    "def power(x):\n",
    "    square = x**2  # Calculates the square of x\n",
    "    return square  # Returns the result of the calculation"
   ]
  },
  {
   "cell_type": "code",
   "execution_count": 4,
   "id": "cafcff79-8a45-4921-be86-1bdce98791ec",
   "metadata": {},
   "outputs": [
    {
     "data": {
      "text/plain": [
       "25"
      ]
     },
     "execution_count": 4,
     "metadata": {},
     "output_type": "execute_result"
    }
   ],
   "source": [
    "power(5)"
   ]
  },
  {
   "cell_type": "code",
   "execution_count": 5,
   "id": "3aac9e5d-d819-4144-b1b5-d8b3b8db030e",
   "metadata": {},
   "outputs": [
    {
     "data": {
      "text/plain": [
       "9"
      ]
     },
     "execution_count": 5,
     "metadata": {},
     "output_type": "execute_result"
    }
   ],
   "source": [
    "power(3)"
   ]
  },
  {
   "cell_type": "code",
   "execution_count": 6,
   "id": "9178a074-b355-43e3-ae4f-8690ace5970d",
   "metadata": {},
   "outputs": [],
   "source": [
    "def power_three(x):\n",
    "    cube = x**3  # Calculates the cube of x\n",
    "    print(cube)  # Prints the result"
   ]
  },
  {
   "cell_type": "code",
   "execution_count": 7,
   "id": "fc8035a9-2e6c-4d61-a404-db7816f20d1d",
   "metadata": {},
   "outputs": [
    {
     "name": "stdout",
     "output_type": "stream",
     "text": [
      "27\n"
     ]
    }
   ],
   "source": [
    "power_three(3)"
   ]
  },
  {
   "cell_type": "markdown",
   "id": "efcd337f-4d7a-4ab0-874d-7ce157f90c5f",
   "metadata": {},
   "source": [
    "Note: The difference between Print and Return in functions, both display results but 'print’ shows output, while ‘return’ passes a value back to the calling code. Using return in functions is typically preferred."
   ]
  },
  {
   "cell_type": "markdown",
   "id": "3a391d77-c3b0-4a58-b80c-537da4ace730",
   "metadata": {},
   "source": [
    "## Calling a Function"
   ]
  },
  {
   "attachments": {},
   "cell_type": "markdown",
   "id": "98bd618d-0ea7-4cc4-8b28-313d5275a406",
   "metadata": {},
   "source": [
    "By default, python will position each parameter according to the registration order in which they were defined, and must be called in accordance with that order"
   ]
  },
  {
   "cell_type": "code",
   "execution_count": 3,
   "id": "4981f014-267d-42d6-a08c-9da613566248",
   "metadata": {},
   "outputs": [],
   "source": [
    "def name(x):\n",
    "    halo = \"hai {}\".format(x)\n",
    "    return halo"
   ]
  },
  {
   "cell_type": "code",
   "execution_count": 4,
   "id": "cc71491b-4ea8-44e3-b6fb-bd2d4389265c",
   "metadata": {},
   "outputs": [
    {
     "data": {
      "text/plain": [
       "'hai Irfan'"
      ]
     },
     "execution_count": 4,
     "metadata": {},
     "output_type": "execute_result"
    }
   ],
   "source": [
    "name(\"Irfan\")"
   ]
  },
  {
   "cell_type": "code",
   "execution_count": 5,
   "id": "6af129b8-5a6c-499f-8ab5-f16fefc22c23",
   "metadata": {},
   "outputs": [
    {
     "data": {
      "text/plain": [
       "'hai Monday'"
      ]
     },
     "execution_count": 5,
     "metadata": {},
     "output_type": "execute_result"
    }
   ],
   "source": [
    "name(\"Monday\")"
   ]
  },
  {
   "cell_type": "markdown",
   "id": "2bd755ff-b6b0-4471-8af5-ce0bf244c7ba",
   "metadata": {},
   "source": [
    "## Return Statement\n",
    "\n",
    "The return [expression] statement will make program execution exit the current function, while returning a certain value."
   ]
  },
  {
   "cell_type": "code",
   "execution_count": 8,
   "id": "558eae19-76b6-40db-ad25-6609c89e9a82",
   "metadata": {},
   "outputs": [],
   "source": [
    "def plus (x,y):\n",
    "    addition = x + y #addition function\n",
    "    print(\"The result of addition is {}\".format(addition))\n",
    "    return addition"
   ]
  },
  {
   "cell_type": "code",
   "execution_count": 9,
   "id": "7dc26017-cf4a-492b-86db-e0225951bf98",
   "metadata": {},
   "outputs": [
    {
     "name": "stdout",
     "output_type": "stream",
     "text": [
      "The result of addition is 5\n"
     ]
    },
    {
     "data": {
      "text/plain": [
       "5"
      ]
     },
     "execution_count": 9,
     "metadata": {},
     "output_type": "execute_result"
    }
   ],
   "source": [
    "plus(2,3)"
   ]
  },
  {
   "cell_type": "code",
   "execution_count": 10,
   "id": "44c491d5-914b-402e-bf82-989010fbfd48",
   "metadata": {},
   "outputs": [
    {
     "name": "stdout",
     "output_type": "stream",
     "text": [
      "The result of addition is 5\n",
      "The result from the return is 5\n"
     ]
    }
   ],
   "source": [
    "output = plus(2, 3)\n",
    "print(\"The result from the return is {}\".format(output))"
   ]
  },
  {
   "cell_type": "markdown",
   "id": "5fe6c227-b14c-45f3-b4b1-e33e9a7e9f3a",
   "metadata": {},
   "source": [
    "* The return value of a function can be stored in a variable.\r\n",
    "* This will differentiate a function that returns a value from a function that does not return a value (often called a procedure)"
   ]
  },
  {
   "cell_type": "markdown",
   "id": "d5d7d1e7-8d43-4166-8765-b5ecd07b3bfc",
   "metadata": {},
   "source": [
    "Another example function, here with multiple formulas:"
   ]
  },
  {
   "cell_type": "code",
   "execution_count": 17,
   "id": "2a3c2dc4-9be7-447b-825f-6de56b5709ec",
   "metadata": {},
   "outputs": [],
   "source": [
    "def operasi_hitung(a,b):\n",
    "    tambah = a + b\n",
    "    kali = a * b\n",
    "    bagi = a / b\n",
    "    return kali"
   ]
  },
  {
   "cell_type": "code",
   "execution_count": 18,
   "id": "9392b1be-e4b1-4ab1-a268-114b53b52c9d",
   "metadata": {},
   "outputs": [
    {
     "data": {
      "text/plain": [
       "35"
      ]
     },
     "execution_count": 18,
     "metadata": {},
     "output_type": "execute_result"
    }
   ],
   "source": [
    "operasi_hitung(5,7)"
   ]
  },
  {
   "cell_type": "code",
   "execution_count": 19,
   "id": "25c50516-c458-4e3e-9136-be1a8a4486e8",
   "metadata": {},
   "outputs": [
    {
     "name": "stdout",
     "output_type": "stream",
     "text": [
      "Hasil adalah 35\n"
     ]
    }
   ],
   "source": [
    "output_kali = operasi_hitung(5,7)\n",
    "print(\"Hasil adalah {}\".format(output_kali))"
   ]
  },
  {
   "cell_type": "markdown",
   "id": "6bb8dfa3-eee3-4a74-bd10-f3c82f65a351",
   "metadata": {},
   "source": [
    "Apart from that, it can also be combined with input and dot format:"
   ]
  },
  {
   "cell_type": "code",
   "execution_count": 25,
   "id": "3e69713f-3ec3-4c43-be2d-8fc846048631",
   "metadata": {},
   "outputs": [],
   "source": [
    "def pangkat(x):\n",
    "    kuadrat = x**2 #fungsi pangkat dua\n",
    "    return kuadrat"
   ]
  },
  {
   "cell_type": "code",
   "execution_count": 26,
   "id": "bafdd6eb-edec-4b7c-be45-74211d1a7a80",
   "metadata": {},
   "outputs": [
    {
     "data": {
      "text/plain": [
       "16"
      ]
     },
     "execution_count": 26,
     "metadata": {},
     "output_type": "execute_result"
    }
   ],
   "source": [
    "pangkat(4)"
   ]
  },
  {
   "cell_type": "code",
   "execution_count": 27,
   "id": "07f5decd-b4bd-4b28-96da-d28ae0c01822",
   "metadata": {},
   "outputs": [
    {
     "name": "stdin",
     "output_type": "stream",
     "text": [
      " 25\n"
     ]
    },
    {
     "name": "stdout",
     "output_type": "stream",
     "text": [
      "hasilnya adalah 625\n"
     ]
    }
   ],
   "source": [
    "angka = int(input().strip())\n",
    "hasil = pangkat(angka)\n",
    "print(\"hasilnya adalah {}\".format(hasil))"
   ]
  },
  {
   "cell_type": "code",
   "execution_count": 28,
   "id": "832c7a3b-20e8-40a9-9b54-b910a3be96a2",
   "metadata": {},
   "outputs": [
    {
     "name": "stdout",
     "output_type": "stream",
     "text": [
      "hasil kuadrat dari 25 adalah 625\n"
     ]
    }
   ],
   "source": [
    "print(\"hasil kuadrat dari {} adalah {}\".format(angka, hasil))"
   ]
  },
  {
   "cell_type": "markdown",
   "id": "4b8b3b41-0d0d-4242-9ad9-261e1f074f94",
   "metadata": {},
   "source": [
    "## Pass by Reference vs Value\n",
    "\n",
    "* All parameters (arguments) in the Python language are \"passed by reference\". This means that when we change a variable, the data that references it will also change, both inside the function and outside the calling function.\r\n",
    "* Unless we perform an assignment operation that will change the reference parameter"
   ]
  },
  {
   "cell_type": "code",
   "execution_count": 2,
   "id": "ba30fe7e-63bf-486b-8017-1d8d43277e2b",
   "metadata": {},
   "outputs": [],
   "source": [
    "# different or changeable parameters\n",
    "\n",
    "def rubah(daftar_list):\n",
    "    daftar_list.append([3,4])\n",
    "    print(\"Nilai dalam fungsi {}\".format(daftar_list))"
   ]
  },
  {
   "cell_type": "code",
   "execution_count": 36,
   "id": "d6b93eba-d4de-4ef6-a3ce-8c5f163ccb97",
   "metadata": {},
   "outputs": [
    {
     "name": "stdout",
     "output_type": "stream",
     "text": [
      "Nilai dalam fungsi [10, [3, 4]]\n"
     ]
    }
   ],
   "source": [
    "rubah([10])"
   ]
  },
  {
   "cell_type": "code",
   "execution_count": 37,
   "id": "0f29b0c1-2a40-44fd-8d3f-eab1f0882b06",
   "metadata": {},
   "outputs": [
    {
     "name": "stdout",
     "output_type": "stream",
     "text": [
      "Nilai dalam fungsi [12, [3, 4]]\n"
     ]
    }
   ],
   "source": [
    "rubah([12])"
   ]
  },
  {
   "cell_type": "code",
   "execution_count": 38,
   "id": "e44db987-78b0-46d9-a3a0-1e8d219d2e5a",
   "metadata": {},
   "outputs": [
    {
     "name": "stdout",
     "output_type": "stream",
     "text": [
      "Nilai dalam fungsi [10, [3, 4]]\n",
      "Nilai di luar fungsi adalah [10, [3, 4]]\n"
     ]
    }
   ],
   "source": [
    "# parameters have been declared and assigned\n",
    "\n",
    "daftar_list= [10]\n",
    "rubah(daftar_list)\n",
    "print(\"Nilai di luar fungsi adalah {}\".format(daftar_list))\n",
    "\n",
    "#why can it always be 10, because this is in one assignment, but outside the assignment it is different"
   ]
  },
  {
   "cell_type": "markdown",
   "id": "4ca96a37-688c-48a9-bada-ad1a7a79a287",
   "metadata": {},
   "source": [
    "Another example of pass reference by reference vs value:"
   ]
  },
  {
   "cell_type": "code",
   "execution_count": 53,
   "id": "f123189b-34e2-4162-b8ab-1cbfa5fb1284",
   "metadata": {},
   "outputs": [
    {
     "name": "stdin",
     "output_type": "stream",
     "text": [
      "alas =  2\n",
      "tinggi =  3\n"
     ]
    },
    {
     "name": "stdout",
     "output_type": "stream",
     "text": [
      "Luas segitiga: 3.0\n"
     ]
    }
   ],
   "source": [
    "# different parameters\n",
    "\n",
    "def luas_segitiga (alas, tinggi):\n",
    "    luas = 0.5 * alas * tinggi\n",
    "    return luas\n",
    "\n",
    "alas = float(input('Alas = '))\n",
    "tinggi = float(input('Tinggi = '))\n",
    "\n",
    "hasil_luas = luas_segitiga(alas, tinggi)\n",
    "print('Luas segitiga:', hasil_luas)"
   ]
  },
  {
   "cell_type": "code",
   "execution_count": 54,
   "id": "eebece35-6ac3-44ab-b052-6324df6a7c7e",
   "metadata": {},
   "outputs": [],
   "source": [
    "# parameters have been declared and assigned\n",
    "\n",
    "def luas_segitiga (alas, tinggi):\n",
    "    alas = 3\n",
    "    tinggi = 6\n",
    "    luas = 0.5 * alas * tinggi\n",
    "    return luas"
   ]
  },
  {
   "cell_type": "code",
   "execution_count": 55,
   "id": "0b5543f0-5c46-4fee-9b20-cab9d0149ca5",
   "metadata": {},
   "outputs": [
    {
     "data": {
      "text/plain": [
       "9.0"
      ]
     },
     "execution_count": 55,
     "metadata": {},
     "output_type": "execute_result"
    }
   ],
   "source": [
    "luas_segitiga(9,6)"
   ]
  }
 ],
 "metadata": {
  "kernelspec": {
   "display_name": "Python 3 (ipykernel)",
   "language": "python",
   "name": "python3"
  },
  "language_info": {
   "codemirror_mode": {
    "name": "ipython",
    "version": 3
   },
   "file_extension": ".py",
   "mimetype": "text/x-python",
   "name": "python",
   "nbconvert_exporter": "python",
   "pygments_lexer": "ipython3",
   "version": "3.11.7"
  },
  "widgets": {
   "application/vnd.jupyter.widget-state+json": {
    "state": {},
    "version_major": 2,
    "version_minor": 0
   }
  }
 },
 "nbformat": 4,
 "nbformat_minor": 5
}

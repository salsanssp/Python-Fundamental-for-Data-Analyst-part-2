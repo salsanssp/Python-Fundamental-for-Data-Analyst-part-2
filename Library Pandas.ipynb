{
 "cells": [
  {
   "cell_type": "markdown",
   "id": "ff2a939a",
   "metadata": {},
   "source": [
    "# Pandas Library"
   ]
  },
  {
   "cell_type": "markdown",
   "id": "fb69809f",
   "metadata": {},
   "source": [
    "Pandas is well-suited for working with tabular data, such as spreadsheets or SQL tables."
   ]
  },
  {
   "cell_type": "markdown",
   "id": "6e79e7be",
   "metadata": {},
   "source": [
    "## Data Structures in Pandas Library  \n",
    "Pandas generally provide two data structures for manipulating data. They are:\n",
    "* Series\n",
    "* DataFrame"
   ]
  },
  {
   "cell_type": "code",
   "execution_count": 1,
   "id": "e61e22ca",
   "metadata": {},
   "outputs": [],
   "source": [
    "# import libraries\n",
    "\n",
    "import pandas as pd\n",
    "import numpy as np"
   ]
  },
  {
   "cell_type": "markdown",
   "id": "8969ffc6",
   "metadata": {},
   "source": [
    "## Pandas Series"
   ]
  },
  {
   "cell_type": "markdown",
   "id": "b1c7d2e7",
   "metadata": {},
   "source": [
    "A Pandas Series is a one-dimensional labeled array capable of holding data of any type (integer, string, float, Python objects, etc.). The axis labels are collectively called indexes."
   ]
  },
  {
   "cell_type": "code",
   "execution_count": 2,
   "id": "36fd49c1",
   "metadata": {},
   "outputs": [
    {
     "name": "stdout",
     "output_type": "stream",
     "text": [
      "[2, 3, 5, 7, 11, 13, 17, 19]\n"
     ]
    }
   ],
   "source": [
    "# creating simple array \n",
    "\n",
    "prima = [2,3,5,7,11,13,17,19]\n",
    "\n",
    "print(prima)"
   ]
  },
  {
   "cell_type": "code",
   "execution_count": 3,
   "id": "6ca52f43",
   "metadata": {},
   "outputs": [
    {
     "data": {
      "text/plain": [
       "0     2\n",
       "1     3\n",
       "2     5\n",
       "3     7\n",
       "4    11\n",
       "5    13\n",
       "6    17\n",
       "7    19\n",
       "dtype: int64"
      ]
     },
     "execution_count": 3,
     "metadata": {},
     "output_type": "execute_result"
    }
   ],
   "source": [
    "# Creating a Series from the simple array\n",
    "\n",
    "prima = pd.Series(prima) # that 'Series' must use a capital 'S'\n",
    "\n",
    "prima"
   ]
  },
  {
   "cell_type": "code",
   "execution_count": 4,
   "id": "bfe38ad9",
   "metadata": {},
   "outputs": [
    {
     "data": {
      "text/plain": [
       "array([ 2,  3,  5,  7, 11, 13, 17, 19], dtype=int64)"
      ]
     },
     "execution_count": 4,
     "metadata": {},
     "output_type": "execute_result"
    }
   ],
   "source": [
    "# convert from Series to array\n",
    "\n",
    "prima.values"
   ]
  },
  {
   "cell_type": "code",
   "execution_count": 5,
   "id": "bff7a6e9",
   "metadata": {},
   "outputs": [
    {
     "data": {
      "text/plain": [
       "RangeIndex(start=0, stop=8, step=1)"
      ]
     },
     "execution_count": 5,
     "metadata": {},
     "output_type": "execute_result"
    }
   ],
   "source": [
    "# display the index\n",
    "\n",
    "prima.index"
   ]
  },
  {
   "cell_type": "code",
   "execution_count": 6,
   "id": "76ba5b89",
   "metadata": {},
   "outputs": [
    {
     "data": {
      "text/plain": [
       "7"
      ]
     },
     "execution_count": 6,
     "metadata": {},
     "output_type": "execute_result"
    }
   ],
   "source": [
    "# calling an element based on its index\n",
    "\n",
    "prima[3]"
   ]
  },
  {
   "cell_type": "markdown",
   "id": "6a2876ee",
   "metadata": {},
   "source": [
    "Create a Series with a random explicit string index."
   ]
  },
  {
   "cell_type": "code",
   "execution_count": 7,
   "id": "97cd32b9",
   "metadata": {},
   "outputs": [
    {
     "name": "stdout",
     "output_type": "stream",
     "text": [
      "a     2\n",
      "b     3\n",
      "c     5\n",
      "d     7\n",
      "e    11\n",
      "f    13\n",
      "g    17\n",
      "h    19\n",
      "dtype: int64\n"
     ]
    }
   ],
   "source": [
    "prima_2 = pd.Series([2, 3, 5, 7, 11, 13, 17, 19], index=['a', 'b', 'c', 'd', 'e', 'f', 'g', 'h'])\n",
    "\n",
    "print(prima_2)"
   ]
  },
  {
   "cell_type": "markdown",
   "id": "062651d1",
   "metadata": {},
   "source": [
    "Pandas Series index attribute  \n",
    "is used to get or set the index labels of the given Series object."
   ]
  },
  {
   "cell_type": "code",
   "execution_count": 8,
   "id": "066c1063",
   "metadata": {},
   "outputs": [
    {
     "data": {
      "text/plain": [
       "Index(['a', 'b', 'c', 'd', 'e', 'f', 'g', 'h'], dtype='object')"
      ]
     },
     "execution_count": 8,
     "metadata": {},
     "output_type": "execute_result"
    }
   ],
   "source": [
    "prima_2.index"
   ]
  },
  {
   "cell_type": "markdown",
   "id": "e112e2d1",
   "metadata": {},
   "source": [
    "Indexing makes use of explicit index."
   ]
  },
  {
   "cell_type": "code",
   "execution_count": 9,
   "id": "0685ffe5",
   "metadata": {},
   "outputs": [
    {
     "data": {
      "text/plain": [
       "17"
      ]
     },
     "execution_count": 9,
     "metadata": {},
     "output_type": "execute_result"
    }
   ],
   "source": [
    "prima_2['g']"
   ]
  },
  {
   "cell_type": "markdown",
   "id": "774f58bb",
   "metadata": {},
   "source": [
    "On the other hand, in Pandas, the term 'implicit index' refers to the default index that Pandas assigns to each element in a Series or DataFrame when no explicit index is provided."
   ]
  },
  {
   "cell_type": "code",
   "execution_count": 10,
   "id": "edf43931",
   "metadata": {},
   "outputs": [
    {
     "data": {
      "text/plain": [
       "11"
      ]
     },
     "execution_count": 10,
     "metadata": {},
     "output_type": "execute_result"
    }
   ],
   "source": [
    "# retrieve data using the implicit index\n",
    "\n",
    "prima[4]"
   ]
  },
  {
   "cell_type": "markdown",
   "id": "8cf8576f",
   "metadata": {},
   "source": [
    "If there's a match between the implicit and explicit indices, it relies solely on the explicit index when called"
   ]
  },
  {
   "cell_type": "markdown",
   "id": "f19a2aa9",
   "metadata": {},
   "source": [
    "Let's say"
   ]
  },
  {
   "cell_type": "code",
   "execution_count": 11,
   "id": "e35d7f2a",
   "metadata": {},
   "outputs": [],
   "source": [
    "data = [2,3,5,7,9,11,13,17,19]"
   ]
  },
  {
   "cell_type": "code",
   "execution_count": 12,
   "id": "2a818f48",
   "metadata": {},
   "outputs": [
    {
     "data": {
      "text/plain": [
       "0     2\n",
       "1     3\n",
       "2     5\n",
       "3     7\n",
       "4     9\n",
       "5    11\n",
       "6    13\n",
       "7    17\n",
       "8    19\n",
       "dtype: int64"
      ]
     },
     "execution_count": 12,
     "metadata": {},
     "output_type": "execute_result"
    }
   ],
   "source": [
    "data = pd.Series(data)\n",
    "\n",
    "data"
   ]
  },
  {
   "cell_type": "code",
   "execution_count": 13,
   "id": "6291f1d0",
   "metadata": {},
   "outputs": [
    {
     "data": {
      "text/plain": [
       "1     2\n",
       "2     3\n",
       "3     5\n",
       "4     7\n",
       "5     9\n",
       "6    11\n",
       "7    13\n",
       "8    17\n",
       "9    19\n",
       "dtype: int64"
      ]
     },
     "execution_count": 13,
     "metadata": {},
     "output_type": "execute_result"
    }
   ],
   "source": [
    "# with index custom\n",
    "\n",
    "data = pd.Series([2,3,5,7,9,11,13,17,19], index = [1, 2, 3, 4, 5, 6, 7, 8, 9])\n",
    "\n",
    "data"
   ]
  },
  {
   "cell_type": "code",
   "execution_count": 14,
   "id": "9321ffa3",
   "metadata": {},
   "outputs": [
    {
     "data": {
      "text/plain": [
       "2"
      ]
     },
     "execution_count": 14,
     "metadata": {},
     "output_type": "execute_result"
    }
   ],
   "source": [
    "data[1] # Thus, the explicitly indexed one gets called"
   ]
  },
  {
   "cell_type": "code",
   "execution_count": 15,
   "id": "f8e9d535",
   "metadata": {},
   "outputs": [
    {
     "ename": "KeyError",
     "evalue": "0",
     "output_type": "error",
     "traceback": [
      "\u001b[1;31m---------------------------------------------------------------------------\u001b[0m",
      "\u001b[1;31mKeyError\u001b[0m                                  Traceback (most recent call last)",
      "File \u001b[1;32m~\\anaconda3\\Lib\\site-packages\\pandas\\core\\indexes\\base.py:3791\u001b[0m, in \u001b[0;36mIndex.get_loc\u001b[1;34m(self, key)\u001b[0m\n\u001b[0;32m   3790\u001b[0m \u001b[38;5;28;01mtry\u001b[39;00m:\n\u001b[1;32m-> 3791\u001b[0m     \u001b[38;5;28;01mreturn\u001b[39;00m \u001b[38;5;28;43mself\u001b[39;49m\u001b[38;5;241;43m.\u001b[39;49m\u001b[43m_engine\u001b[49m\u001b[38;5;241;43m.\u001b[39;49m\u001b[43mget_loc\u001b[49m\u001b[43m(\u001b[49m\u001b[43mcasted_key\u001b[49m\u001b[43m)\u001b[49m\n\u001b[0;32m   3792\u001b[0m \u001b[38;5;28;01mexcept\u001b[39;00m \u001b[38;5;167;01mKeyError\u001b[39;00m \u001b[38;5;28;01mas\u001b[39;00m err:\n",
      "File \u001b[1;32mindex.pyx:152\u001b[0m, in \u001b[0;36mpandas._libs.index.IndexEngine.get_loc\u001b[1;34m()\u001b[0m\n",
      "File \u001b[1;32mindex.pyx:181\u001b[0m, in \u001b[0;36mpandas._libs.index.IndexEngine.get_loc\u001b[1;34m()\u001b[0m\n",
      "File \u001b[1;32mpandas\\_libs\\hashtable_class_helper.pxi:2606\u001b[0m, in \u001b[0;36mpandas._libs.hashtable.Int64HashTable.get_item\u001b[1;34m()\u001b[0m\n",
      "File \u001b[1;32mpandas\\_libs\\hashtable_class_helper.pxi:2630\u001b[0m, in \u001b[0;36mpandas._libs.hashtable.Int64HashTable.get_item\u001b[1;34m()\u001b[0m\n",
      "\u001b[1;31mKeyError\u001b[0m: 0",
      "\nThe above exception was the direct cause of the following exception:\n",
      "\u001b[1;31mKeyError\u001b[0m                                  Traceback (most recent call last)",
      "Cell \u001b[1;32mIn[15], line 1\u001b[0m\n\u001b[1;32m----> 1\u001b[0m \u001b[43mdata\u001b[49m\u001b[43m[\u001b[49m\u001b[38;5;241;43m0\u001b[39;49m\u001b[43m]\u001b[49m \u001b[38;5;66;03m# If we try to call based on the implicit index, an error will occur.\u001b[39;00m\n",
      "File \u001b[1;32m~\\anaconda3\\Lib\\site-packages\\pandas\\core\\series.py:1040\u001b[0m, in \u001b[0;36mSeries.__getitem__\u001b[1;34m(self, key)\u001b[0m\n\u001b[0;32m   1037\u001b[0m     \u001b[38;5;28;01mreturn\u001b[39;00m \u001b[38;5;28mself\u001b[39m\u001b[38;5;241m.\u001b[39m_values[key]\n\u001b[0;32m   1039\u001b[0m \u001b[38;5;28;01melif\u001b[39;00m key_is_scalar:\n\u001b[1;32m-> 1040\u001b[0m     \u001b[38;5;28;01mreturn\u001b[39;00m \u001b[38;5;28;43mself\u001b[39;49m\u001b[38;5;241;43m.\u001b[39;49m\u001b[43m_get_value\u001b[49m\u001b[43m(\u001b[49m\u001b[43mkey\u001b[49m\u001b[43m)\u001b[49m\n\u001b[0;32m   1042\u001b[0m \u001b[38;5;66;03m# Convert generator to list before going through hashable part\u001b[39;00m\n\u001b[0;32m   1043\u001b[0m \u001b[38;5;66;03m# (We will iterate through the generator there to check for slices)\u001b[39;00m\n\u001b[0;32m   1044\u001b[0m \u001b[38;5;28;01mif\u001b[39;00m is_iterator(key):\n",
      "File \u001b[1;32m~\\anaconda3\\Lib\\site-packages\\pandas\\core\\series.py:1156\u001b[0m, in \u001b[0;36mSeries._get_value\u001b[1;34m(self, label, takeable)\u001b[0m\n\u001b[0;32m   1153\u001b[0m     \u001b[38;5;28;01mreturn\u001b[39;00m \u001b[38;5;28mself\u001b[39m\u001b[38;5;241m.\u001b[39m_values[label]\n\u001b[0;32m   1155\u001b[0m \u001b[38;5;66;03m# Similar to Index.get_value, but we do not fall back to positional\u001b[39;00m\n\u001b[1;32m-> 1156\u001b[0m loc \u001b[38;5;241m=\u001b[39m \u001b[38;5;28;43mself\u001b[39;49m\u001b[38;5;241;43m.\u001b[39;49m\u001b[43mindex\u001b[49m\u001b[38;5;241;43m.\u001b[39;49m\u001b[43mget_loc\u001b[49m\u001b[43m(\u001b[49m\u001b[43mlabel\u001b[49m\u001b[43m)\u001b[49m\n\u001b[0;32m   1158\u001b[0m \u001b[38;5;28;01mif\u001b[39;00m is_integer(loc):\n\u001b[0;32m   1159\u001b[0m     \u001b[38;5;28;01mreturn\u001b[39;00m \u001b[38;5;28mself\u001b[39m\u001b[38;5;241m.\u001b[39m_values[loc]\n",
      "File \u001b[1;32m~\\anaconda3\\Lib\\site-packages\\pandas\\core\\indexes\\base.py:3798\u001b[0m, in \u001b[0;36mIndex.get_loc\u001b[1;34m(self, key)\u001b[0m\n\u001b[0;32m   3793\u001b[0m     \u001b[38;5;28;01mif\u001b[39;00m \u001b[38;5;28misinstance\u001b[39m(casted_key, \u001b[38;5;28mslice\u001b[39m) \u001b[38;5;129;01mor\u001b[39;00m (\n\u001b[0;32m   3794\u001b[0m         \u001b[38;5;28misinstance\u001b[39m(casted_key, abc\u001b[38;5;241m.\u001b[39mIterable)\n\u001b[0;32m   3795\u001b[0m         \u001b[38;5;129;01mand\u001b[39;00m \u001b[38;5;28many\u001b[39m(\u001b[38;5;28misinstance\u001b[39m(x, \u001b[38;5;28mslice\u001b[39m) \u001b[38;5;28;01mfor\u001b[39;00m x \u001b[38;5;129;01min\u001b[39;00m casted_key)\n\u001b[0;32m   3796\u001b[0m     ):\n\u001b[0;32m   3797\u001b[0m         \u001b[38;5;28;01mraise\u001b[39;00m InvalidIndexError(key)\n\u001b[1;32m-> 3798\u001b[0m     \u001b[38;5;28;01mraise\u001b[39;00m \u001b[38;5;167;01mKeyError\u001b[39;00m(key) \u001b[38;5;28;01mfrom\u001b[39;00m \u001b[38;5;21;01merr\u001b[39;00m\n\u001b[0;32m   3799\u001b[0m \u001b[38;5;28;01mexcept\u001b[39;00m \u001b[38;5;167;01mTypeError\u001b[39;00m:\n\u001b[0;32m   3800\u001b[0m     \u001b[38;5;66;03m# If we have a listlike key, _check_indexing_error will raise\u001b[39;00m\n\u001b[0;32m   3801\u001b[0m     \u001b[38;5;66;03m#  InvalidIndexError. Otherwise we fall through and re-raise\u001b[39;00m\n\u001b[0;32m   3802\u001b[0m     \u001b[38;5;66;03m#  the TypeError.\u001b[39;00m\n\u001b[0;32m   3803\u001b[0m     \u001b[38;5;28mself\u001b[39m\u001b[38;5;241m.\u001b[39m_check_indexing_error(key)\n",
      "\u001b[1;31mKeyError\u001b[0m: 0"
     ]
    }
   ],
   "source": [
    "data[0] # If we try to call based on the implicit index, an error will occur."
   ]
  },
  {
   "cell_type": "markdown",
   "id": "d07fdae6",
   "metadata": {},
   "source": [
    "Slicing with implicit and explicit index"
   ]
  },
  {
   "cell_type": "code",
   "execution_count": 17,
   "id": "a7fa8715",
   "metadata": {},
   "outputs": [
    {
     "data": {
      "text/plain": [
       "a    0.2\n",
       "b    0.3\n",
       "c    0.5\n",
       "d    0.7\n",
       "dtype: float64"
      ]
     },
     "execution_count": 17,
     "metadata": {},
     "output_type": "execute_result"
    }
   ],
   "source": [
    "data_2 = pd.Series([0.2, 0.3, 0.5, 0.7], index = ['a', 'b', 'c', 'd'])\n",
    "\n",
    "data_2"
   ]
  },
  {
   "cell_type": "code",
   "execution_count": 18,
   "id": "840b333d",
   "metadata": {},
   "outputs": [
    {
     "data": {
      "text/plain": [
       "a    0.2\n",
       "b    0.3\n",
       "c    0.5\n",
       "dtype: float64"
      ]
     },
     "execution_count": 18,
     "metadata": {},
     "output_type": "execute_result"
    }
   ],
   "source": [
    "# explicit index\n",
    "\n",
    "data_2['a':'c']"
   ]
  },
  {
   "cell_type": "code",
   "execution_count": 19,
   "id": "707cca7e",
   "metadata": {},
   "outputs": [
    {
     "data": {
      "text/plain": [
       "a    0.2\n",
       "dtype: float64"
      ]
     },
     "execution_count": 19,
     "metadata": {},
     "output_type": "execute_result"
    }
   ],
   "source": [
    "# implicit index\n",
    "\n",
    "data_2[0:1]"
   ]
  },
  {
   "cell_type": "markdown",
   "id": "9252b79a",
   "metadata": {},
   "source": [
    "### loc and iloc"
   ]
  },
  {
   "cell_type": "markdown",
   "id": "d0f73e0b",
   "metadata": {},
   "source": [
    "Creating a sample dataset with matching implicit and explicit indices."
   ]
  },
  {
   "cell_type": "code",
   "execution_count": 20,
   "id": "4f38014d",
   "metadata": {},
   "outputs": [
    {
     "data": {
      "text/plain": [
       "2      Dipa\n",
       "3     Salsa\n",
       "4     Irpan\n",
       "5    Aisyah\n",
       "dtype: object"
      ]
     },
     "execution_count": 20,
     "metadata": {},
     "output_type": "execute_result"
    }
   ],
   "source": [
    "data_3 = pd.Series(['Dipa', 'Salsa', 'Irpan', 'Aisyah'], index = [2, 3, 4, 5])\n",
    "\n",
    "data_3"
   ]
  },
  {
   "cell_type": "markdown",
   "id": "4934fcd1",
   "metadata": {},
   "source": [
    "To clarify data retrieval, we can use the loc and iloc attributes."
   ]
  },
  {
   "cell_type": "markdown",
   "id": "6e0235c6",
   "metadata": {},
   "source": [
    "### loc\n",
    "The loc attribute allows indexing and slicing that always references the explicit index."
   ]
  },
  {
   "cell_type": "code",
   "execution_count": 21,
   "id": "0134b6a2",
   "metadata": {},
   "outputs": [
    {
     "data": {
      "text/plain": [
       "'Salsa'"
      ]
     },
     "execution_count": 21,
     "metadata": {},
     "output_type": "execute_result"
    }
   ],
   "source": [
    "data_3.loc[3]"
   ]
  },
  {
   "cell_type": "code",
   "execution_count": 22,
   "id": "e3df3b3e",
   "metadata": {},
   "outputs": [
    {
     "data": {
      "text/plain": [
       "2     Dipa\n",
       "3    Salsa\n",
       "4    Irpan\n",
       "dtype: object"
      ]
     },
     "execution_count": 22,
     "metadata": {},
     "output_type": "execute_result"
    }
   ],
   "source": [
    "# slicing with loc attribute\n",
    "\n",
    "data_3.loc[1:4]"
   ]
  },
  {
   "cell_type": "markdown",
   "id": "6d511b89",
   "metadata": {},
   "source": [
    "### iloc\n",
    "The iloc attribute allows indexing and slicing that always refer to the implicit integer index"
   ]
  },
  {
   "cell_type": "code",
   "execution_count": 23,
   "id": "acdda9a0",
   "metadata": {},
   "outputs": [
    {
     "data": {
      "text/plain": [
       "'Aisyah'"
      ]
     },
     "execution_count": 23,
     "metadata": {},
     "output_type": "execute_result"
    }
   ],
   "source": [
    "data_3.iloc[3]"
   ]
  },
  {
   "cell_type": "code",
   "execution_count": 24,
   "id": "c169d096",
   "metadata": {},
   "outputs": [
    {
     "data": {
      "text/plain": [
       "3     Salsa\n",
       "4     Irpan\n",
       "5    Aisyah\n",
       "dtype: object"
      ]
     },
     "execution_count": 24,
     "metadata": {},
     "output_type": "execute_result"
    }
   ],
   "source": [
    "# slicing with iloc attribute\n",
    "\n",
    "data_3.iloc[1:4]"
   ]
  },
  {
   "cell_type": "markdown",
   "id": "f2e59f84-d306-4584-98f7-bba6d0695e8b",
   "metadata": {},
   "source": [
    "# Data Frame\n",
    "\r\n",
    "which was introduced in Python via the Pandas library, is a tabular data structure allowing users to handle and store data in a two-dimensional table structure consisting of rows and columns. It can be interpreted as a set of one or more series, with at least one series included"
   ]
  },
  {
   "cell_type": "markdown",
   "id": "a12bd104",
   "metadata": {},
   "source": [
    "Creating a series from a dictionary"
   ]
  },
  {
   "cell_type": "code",
   "execution_count": 3,
   "id": "435dba9d",
   "metadata": {},
   "outputs": [
    {
     "data": {
      "text/plain": [
       "{'Salsabilla': 2002, 'Rahma': 2003, 'Sagita': 2001, 'Sheno': 2004}"
      ]
     },
     "execution_count": 3,
     "metadata": {},
     "output_type": "execute_result"
    }
   ],
   "source": [
    "# creating simple dictionary\n",
    "\n",
    "dict_year = {'Salsabilla':2002,\n",
    "              'Rahma':2003,\n",
    "              'Sagita':2001,\n",
    "              'Sheno':2004}\n",
    "dict_year"
   ]
  },
  {
   "cell_type": "code",
   "execution_count": 4,
   "id": "0ef0547c",
   "metadata": {},
   "outputs": [
    {
     "data": {
      "text/plain": [
       "Salsabilla    2002\n",
       "Rahma         2003\n",
       "Sagita        2001\n",
       "Sheno         2004\n",
       "dtype: int64"
      ]
     },
     "execution_count": 4,
     "metadata": {},
     "output_type": "execute_result"
    }
   ],
   "source": [
    "# creating series for the dictionary\n",
    "\n",
    "dict_year = pd.Series(dict_year)\n",
    "\n",
    "dict_year"
   ]
  },
  {
   "cell_type": "code",
   "execution_count": 5,
   "id": "bf263da6",
   "metadata": {},
   "outputs": [
    {
     "data": {
      "text/plain": [
       "{'Salsabilla': 22, 'Rahma': 21, 'Sagita': 23, 'Sheno': 20}"
      ]
     },
     "execution_count": 5,
     "metadata": {},
     "output_type": "execute_result"
    }
   ],
   "source": [
    "# creating simple dictionary\n",
    "\n",
    "dict_age = {'Salsabilla': 22,\n",
    "           'Rahma' : 21,\n",
    "           'Sagita' : 23,\n",
    "           'Sheno' : 20}\n",
    "dict_age"
   ]
  },
  {
   "cell_type": "code",
   "execution_count": 6,
   "id": "174ee0d7",
   "metadata": {},
   "outputs": [
    {
     "data": {
      "text/plain": [
       "Salsabilla    22\n",
       "Rahma         21\n",
       "Sagita        23\n",
       "Sheno         20\n",
       "dtype: int64"
      ]
     },
     "execution_count": 6,
     "metadata": {},
     "output_type": "execute_result"
    }
   ],
   "source": [
    "# creating series for the dictionary\n",
    "\n",
    "dict_age = pd.Series(dict_age)\n",
    "\n",
    "dict_age"
   ]
  },
  {
   "cell_type": "code",
   "execution_count": 8,
   "id": "7a7652e9-e867-417d-95ef-9b71cb26cb6c",
   "metadata": {},
   "outputs": [
    {
     "data": {
      "text/html": [
       "<div>\n",
       "<style scoped>\n",
       "    .dataframe tbody tr th:only-of-type {\n",
       "        vertical-align: middle;\n",
       "    }\n",
       "\n",
       "    .dataframe tbody tr th {\n",
       "        vertical-align: top;\n",
       "    }\n",
       "\n",
       "    .dataframe thead th {\n",
       "        text-align: right;\n",
       "    }\n",
       "</style>\n",
       "<table border=\"1\" class=\"dataframe\">\n",
       "  <thead>\n",
       "    <tr style=\"text-align: right;\">\n",
       "      <th></th>\n",
       "      <th>Year</th>\n",
       "      <th>Age</th>\n",
       "    </tr>\n",
       "  </thead>\n",
       "  <tbody>\n",
       "    <tr>\n",
       "      <th>Salsabilla</th>\n",
       "      <td>2002</td>\n",
       "      <td>22</td>\n",
       "    </tr>\n",
       "    <tr>\n",
       "      <th>Rahma</th>\n",
       "      <td>2003</td>\n",
       "      <td>21</td>\n",
       "    </tr>\n",
       "    <tr>\n",
       "      <th>Sagita</th>\n",
       "      <td>2001</td>\n",
       "      <td>23</td>\n",
       "    </tr>\n",
       "    <tr>\n",
       "      <th>Sheno</th>\n",
       "      <td>2004</td>\n",
       "      <td>20</td>\n",
       "    </tr>\n",
       "  </tbody>\n",
       "</table>\n",
       "</div>"
      ],
      "text/plain": [
       "            Year  Age\n",
       "Salsabilla  2002   22\n",
       "Rahma       2003   21\n",
       "Sagita      2001   23\n",
       "Sheno       2004   20"
      ]
     },
     "execution_count": 8,
     "metadata": {},
     "output_type": "execute_result"
    }
   ],
   "source": [
    "Student = pd.DataFrame({'Year':dict_year,'Age':dict_age}) #Pay attention when writing the DataFrame. 'D' and 'F' must be capitalized\n",
    "\n",
    "Student"
   ]
  },
  {
   "cell_type": "code",
   "execution_count": 9,
   "id": "5a213ae2-3daa-434c-9fcc-1e3d2ab38a44",
   "metadata": {},
   "outputs": [
    {
     "data": {
      "text/plain": [
       "Salsabilla    22\n",
       "Rahma         21\n",
       "Sagita        23\n",
       "Sheno         20\n",
       "Name: Age, dtype: int64"
      ]
     },
     "execution_count": 9,
     "metadata": {},
     "output_type": "execute_result"
    }
   ],
   "source": [
    "# can also call just one column.\n",
    "\n",
    "Student['Age']"
   ]
  },
  {
   "cell_type": "code",
   "execution_count": 10,
   "id": "323820d7-275d-4e16-be60-d34cc341227d",
   "metadata": {},
   "outputs": [
    {
     "data": {
      "text/plain": [
       "2002"
      ]
     },
     "execution_count": 10,
     "metadata": {},
     "output_type": "execute_result"
    }
   ],
   "source": [
    "# can also call one column and value to see more specifically.\n",
    "\n",
    "Student['Year']['Salsabilla']"
   ]
  },
  {
   "cell_type": "markdown",
   "id": "f37edbab-a41c-424f-9c46-36014823ea65",
   "metadata": {},
   "source": [
    "Can also call with dot, however...\n",
    "\n",
    "When calling data with the dot Age syntax it will appear as below:"
   ]
  },
  {
   "cell_type": "code",
   "execution_count": 11,
   "id": "0de35b4b-028a-462c-882a-ad02e7c9b438",
   "metadata": {},
   "outputs": [
    {
     "data": {
      "text/plain": [
       "Salsabilla    22\n",
       "Rahma         21\n",
       "Sagita        23\n",
       "Sheno         20\n",
       "Name: Age, dtype: int64"
      ]
     },
     "execution_count": 11,
     "metadata": {},
     "output_type": "execute_result"
    }
   ],
   "source": [
    "Student.Age"
   ]
  },
  {
   "cell_type": "markdown",
   "id": "194ceef0-8ef5-4fc9-89ed-a763379bcae4",
   "metadata": {},
   "source": [
    "This can arise because just one word, but if there are 2 words with spaces, cannot be called in this way\n",
    "\n",
    "So it is safer to call data with the example syntax: name_df[name_columns]"
   ]
  },
  {
   "cell_type": "code",
   "execution_count": 12,
   "id": "6950f460-2883-4521-8878-c8c8629e3848",
   "metadata": {},
   "outputs": [
    {
     "data": {
      "text/plain": [
       "Salsabilla    22\n",
       "Rahma         21\n",
       "Sagita        23\n",
       "Sheno         20\n",
       "Name: Age, dtype: int64"
      ]
     },
     "execution_count": 12,
     "metadata": {},
     "output_type": "execute_result"
    }
   ],
   "source": [
    "Student['Age']"
   ]
  },
  {
   "cell_type": "markdown",
   "id": "807be7dd-cdf7-4796-8ebe-6184f71be5de",
   "metadata": {},
   "source": [
    "We can also change the Data Frame column names if there is a need to change them, by:"
   ]
  },
  {
   "cell_type": "code",
   "execution_count": 14,
   "id": "def9786b-5cf4-462d-a135-83ecea141104",
   "metadata": {},
   "outputs": [
    {
     "data": {
      "text/html": [
       "<div>\n",
       "<style scoped>\n",
       "    .dataframe tbody tr th:only-of-type {\n",
       "        vertical-align: middle;\n",
       "    }\n",
       "\n",
       "    .dataframe tbody tr th {\n",
       "        vertical-align: top;\n",
       "    }\n",
       "\n",
       "    .dataframe thead th {\n",
       "        text-align: right;\n",
       "    }\n",
       "</style>\n",
       "<table border=\"1\" class=\"dataframe\">\n",
       "  <thead>\n",
       "    <tr style=\"text-align: right;\">\n",
       "      <th></th>\n",
       "      <th>Birth Year</th>\n",
       "      <th>Age</th>\n",
       "    </tr>\n",
       "  </thead>\n",
       "  <tbody>\n",
       "    <tr>\n",
       "      <th>Salsabilla</th>\n",
       "      <td>2002</td>\n",
       "      <td>22</td>\n",
       "    </tr>\n",
       "    <tr>\n",
       "      <th>Rahma</th>\n",
       "      <td>2003</td>\n",
       "      <td>21</td>\n",
       "    </tr>\n",
       "    <tr>\n",
       "      <th>Sagita</th>\n",
       "      <td>2001</td>\n",
       "      <td>23</td>\n",
       "    </tr>\n",
       "    <tr>\n",
       "      <th>Sheno</th>\n",
       "      <td>2004</td>\n",
       "      <td>20</td>\n",
       "    </tr>\n",
       "  </tbody>\n",
       "</table>\n",
       "</div>"
      ],
      "text/plain": [
       "            Birth Year  Age\n",
       "Salsabilla        2002   22\n",
       "Rahma             2003   21\n",
       "Sagita            2001   23\n",
       "Sheno             2004   20"
      ]
     },
     "execution_count": 14,
     "metadata": {},
     "output_type": "execute_result"
    }
   ],
   "source": [
    "Student = pd.DataFrame({'Birth Year':dict_year,'Age':dict_age})\n",
    "\n",
    "Student"
   ]
  },
  {
   "cell_type": "code",
   "execution_count": 15,
   "id": "b634fab2-4b75-40fa-94af-bebbd8172a73",
   "metadata": {},
   "outputs": [
    {
     "data": {
      "text/plain": [
       "Salsabilla    2002\n",
       "Rahma         2003\n",
       "Sagita        2001\n",
       "Sheno         2004\n",
       "Name: Birth Year, dtype: int64"
      ]
     },
     "execution_count": 15,
     "metadata": {},
     "output_type": "execute_result"
    }
   ],
   "source": [
    "Student['Birth Year']"
   ]
  },
  {
   "cell_type": "code",
   "execution_count": 20,
   "id": "96568a3b-70c7-4adb-98b3-2de968742d52",
   "metadata": {},
   "outputs": [
    {
     "data": {
      "text/plain": [
       "Rahma     2003\n",
       "Sagita    2001\n",
       "Sheno     2004\n",
       "Name: Birth Year, dtype: int64"
      ]
     },
     "execution_count": 20,
     "metadata": {},
     "output_type": "execute_result"
    }
   ],
   "source": [
    "Student['Birth Year']['Rahma':'Sheno'] # explicit Index"
   ]
  },
  {
   "cell_type": "code",
   "execution_count": 21,
   "id": "46d1a1b2-2a1f-4df2-a28b-1da5da27d191",
   "metadata": {},
   "outputs": [
    {
     "data": {
      "text/plain": [
       "Salsabilla    22\n",
       "Rahma         21\n",
       "Sagita        23\n",
       "Name: Age, dtype: int64"
      ]
     },
     "execution_count": 21,
     "metadata": {},
     "output_type": "execute_result"
    }
   ],
   "source": [
    "Student['Age'].iloc[0:3] # implicit index using iloc"
   ]
  },
  {
   "cell_type": "markdown",
   "id": "4cabc161-44a0-4831-9296-c813ab70c321",
   "metadata": {},
   "source": [
    "# Load CSV Dataset\n",
    "\r\n",
    "To load a CSV dataset in Python, you typically use the pandas library, which provides a simple and powerful data manipulation and analysis toolset. But dont forget to make sure place the dataset in same folder with the notebook."
   ]
  },
  {
   "cell_type": "code",
   "execution_count": 22,
   "id": "91752f6d-4d4a-429a-9551-6d972d47a206",
   "metadata": {},
   "outputs": [],
   "source": [
    "# basically, this is the syntax to load a dataset, but don't forget to import and run pandas first\n",
    "\n",
    "# df = pd.read_csv('name_dataset.csv')"
   ]
  },
  {
   "cell_type": "code",
   "execution_count": 23,
   "id": "24101e08-c3b1-42b8-9c7b-23a0861fed3c",
   "metadata": {},
   "outputs": [],
   "source": [
    "# example we have dataset csv titanic, we want to load that datase\n",
    "\n",
    "df = pd.read_csv('Titanic.csv')"
   ]
  },
  {
   "cell_type": "code",
   "execution_count": 24,
   "id": "96356742-713c-4892-8dce-7cec2b4ee87d",
   "metadata": {},
   "outputs": [
    {
     "data": {
      "text/html": [
       "<div>\n",
       "<style scoped>\n",
       "    .dataframe tbody tr th:only-of-type {\n",
       "        vertical-align: middle;\n",
       "    }\n",
       "\n",
       "    .dataframe tbody tr th {\n",
       "        vertical-align: top;\n",
       "    }\n",
       "\n",
       "    .dataframe thead th {\n",
       "        text-align: right;\n",
       "    }\n",
       "</style>\n",
       "<table border=\"1\" class=\"dataframe\">\n",
       "  <thead>\n",
       "    <tr style=\"text-align: right;\">\n",
       "      <th></th>\n",
       "      <th>PassengerId</th>\n",
       "      <th>Survived</th>\n",
       "      <th>Pclass</th>\n",
       "      <th>Name</th>\n",
       "      <th>Sex</th>\n",
       "      <th>Age</th>\n",
       "      <th>SibSp</th>\n",
       "      <th>Parch</th>\n",
       "      <th>Ticket</th>\n",
       "      <th>Fare</th>\n",
       "      <th>Cabin</th>\n",
       "      <th>Embarked</th>\n",
       "    </tr>\n",
       "  </thead>\n",
       "  <tbody>\n",
       "    <tr>\n",
       "      <th>0</th>\n",
       "      <td>1</td>\n",
       "      <td>0</td>\n",
       "      <td>3</td>\n",
       "      <td>Braund, Mr. Owen Harris</td>\n",
       "      <td>male</td>\n",
       "      <td>22.0</td>\n",
       "      <td>1</td>\n",
       "      <td>0</td>\n",
       "      <td>A/5 21171</td>\n",
       "      <td>7.2500</td>\n",
       "      <td>NaN</td>\n",
       "      <td>S</td>\n",
       "    </tr>\n",
       "    <tr>\n",
       "      <th>1</th>\n",
       "      <td>2</td>\n",
       "      <td>1</td>\n",
       "      <td>1</td>\n",
       "      <td>Cumings, Mrs. John Bradley (Florence Briggs Th...</td>\n",
       "      <td>female</td>\n",
       "      <td>38.0</td>\n",
       "      <td>1</td>\n",
       "      <td>0</td>\n",
       "      <td>PC 17599</td>\n",
       "      <td>71.2833</td>\n",
       "      <td>C85</td>\n",
       "      <td>C</td>\n",
       "    </tr>\n",
       "    <tr>\n",
       "      <th>2</th>\n",
       "      <td>3</td>\n",
       "      <td>1</td>\n",
       "      <td>3</td>\n",
       "      <td>Heikkinen, Miss. Laina</td>\n",
       "      <td>female</td>\n",
       "      <td>26.0</td>\n",
       "      <td>0</td>\n",
       "      <td>0</td>\n",
       "      <td>STON/O2. 3101282</td>\n",
       "      <td>7.9250</td>\n",
       "      <td>NaN</td>\n",
       "      <td>S</td>\n",
       "    </tr>\n",
       "    <tr>\n",
       "      <th>3</th>\n",
       "      <td>4</td>\n",
       "      <td>1</td>\n",
       "      <td>1</td>\n",
       "      <td>Futrelle, Mrs. Jacques Heath (Lily May Peel)</td>\n",
       "      <td>female</td>\n",
       "      <td>35.0</td>\n",
       "      <td>1</td>\n",
       "      <td>0</td>\n",
       "      <td>113803</td>\n",
       "      <td>53.1000</td>\n",
       "      <td>C123</td>\n",
       "      <td>S</td>\n",
       "    </tr>\n",
       "    <tr>\n",
       "      <th>4</th>\n",
       "      <td>5</td>\n",
       "      <td>0</td>\n",
       "      <td>3</td>\n",
       "      <td>Allen, Mr. William Henry</td>\n",
       "      <td>male</td>\n",
       "      <td>35.0</td>\n",
       "      <td>0</td>\n",
       "      <td>0</td>\n",
       "      <td>373450</td>\n",
       "      <td>8.0500</td>\n",
       "      <td>NaN</td>\n",
       "      <td>S</td>\n",
       "    </tr>\n",
       "  </tbody>\n",
       "</table>\n",
       "</div>"
      ],
      "text/plain": [
       "   PassengerId  Survived  Pclass  \\\n",
       "0            1         0       3   \n",
       "1            2         1       1   \n",
       "2            3         1       3   \n",
       "3            4         1       1   \n",
       "4            5         0       3   \n",
       "\n",
       "                                                Name     Sex   Age  SibSp  \\\n",
       "0                            Braund, Mr. Owen Harris    male  22.0      1   \n",
       "1  Cumings, Mrs. John Bradley (Florence Briggs Th...  female  38.0      1   \n",
       "2                             Heikkinen, Miss. Laina  female  26.0      0   \n",
       "3       Futrelle, Mrs. Jacques Heath (Lily May Peel)  female  35.0      1   \n",
       "4                           Allen, Mr. William Henry    male  35.0      0   \n",
       "\n",
       "   Parch            Ticket     Fare Cabin Embarked  \n",
       "0      0         A/5 21171   7.2500   NaN        S  \n",
       "1      0          PC 17599  71.2833   C85        C  \n",
       "2      0  STON/O2. 3101282   7.9250   NaN        S  \n",
       "3      0            113803  53.1000  C123        S  \n",
       "4      0            373450   8.0500   NaN        S  "
      ]
     },
     "execution_count": 24,
     "metadata": {},
     "output_type": "execute_result"
    }
   ],
   "source": [
    "# look at the data above\n",
    "\n",
    "df.head()\n",
    "\n",
    "# by default, if the parameters are not filled in, it will display the top 5 data, but you can also fill in the parameters freely according to your needs."
   ]
  },
  {
   "cell_type": "code",
   "execution_count": 25,
   "id": "dded7fd4-fe77-4260-b517-d703d8fdd6e3",
   "metadata": {},
   "outputs": [
    {
     "name": "stdout",
     "output_type": "stream",
     "text": [
      "<class 'pandas.core.frame.DataFrame'>\n",
      "RangeIndex: 891 entries, 0 to 890\n",
      "Data columns (total 12 columns):\n",
      " #   Column       Non-Null Count  Dtype  \n",
      "---  ------       --------------  -----  \n",
      " 0   PassengerId  891 non-null    int64  \n",
      " 1   Survived     891 non-null    int64  \n",
      " 2   Pclass       891 non-null    int64  \n",
      " 3   Name         891 non-null    object \n",
      " 4   Sex          891 non-null    object \n",
      " 5   Age          714 non-null    float64\n",
      " 6   SibSp        891 non-null    int64  \n",
      " 7   Parch        891 non-null    int64  \n",
      " 8   Ticket       891 non-null    object \n",
      " 9   Fare         891 non-null    float64\n",
      " 10  Cabin        204 non-null    object \n",
      " 11  Embarked     889 non-null    object \n",
      "dtypes: float64(2), int64(5), object(5)\n",
      "memory usage: 83.7+ KB\n"
     ]
    }
   ],
   "source": [
    "# look data info\n",
    "\n",
    "df.info()"
   ]
  },
  {
   "cell_type": "code",
   "execution_count": 26,
   "id": "63c03448-9966-4962-b1c4-d7a9b7277423",
   "metadata": {},
   "outputs": [
    {
     "data": {
      "text/plain": [
       "PassengerId    891\n",
       "Survived       891\n",
       "Pclass         891\n",
       "Name           891\n",
       "Sex            891\n",
       "Age            714\n",
       "SibSp          891\n",
       "Parch          891\n",
       "Ticket         891\n",
       "Fare           891\n",
       "Cabin          204\n",
       "Embarked       889\n",
       "dtype: int64"
      ]
     },
     "execution_count": 26,
     "metadata": {},
     "output_type": "execute_result"
    }
   ],
   "source": [
    "# viewing the number of non-null values in the data.\n",
    "\n",
    "df.notnull().sum()"
   ]
  },
  {
   "cell_type": "code",
   "execution_count": 27,
   "id": "95fcded8-09f8-490f-97f9-723e622a69ae",
   "metadata": {},
   "outputs": [
    {
     "data": {
      "text/plain": [
       "PassengerId      0\n",
       "Survived         0\n",
       "Pclass           0\n",
       "Name             0\n",
       "Sex              0\n",
       "Age            177\n",
       "SibSp            0\n",
       "Parch            0\n",
       "Ticket           0\n",
       "Fare             0\n",
       "Cabin          687\n",
       "Embarked         2\n",
       "dtype: int64"
      ]
     },
     "execution_count": 27,
     "metadata": {},
     "output_type": "execute_result"
    }
   ],
   "source": [
    "# viewing the number of null values in the data.\n",
    "\n",
    "df.isnull().sum()"
   ]
  },
  {
   "cell_type": "code",
   "execution_count": 28,
   "id": "1435cfa8-d9be-4ede-aab2-a2792650c881",
   "metadata": {},
   "outputs": [
    {
     "data": {
      "text/html": [
       "<div>\n",
       "<style scoped>\n",
       "    .dataframe tbody tr th:only-of-type {\n",
       "        vertical-align: middle;\n",
       "    }\n",
       "\n",
       "    .dataframe tbody tr th {\n",
       "        vertical-align: top;\n",
       "    }\n",
       "\n",
       "    .dataframe thead th {\n",
       "        text-align: right;\n",
       "    }\n",
       "</style>\n",
       "<table border=\"1\" class=\"dataframe\">\n",
       "  <thead>\n",
       "    <tr style=\"text-align: right;\">\n",
       "      <th></th>\n",
       "      <th>PassengerId</th>\n",
       "      <th>Survived</th>\n",
       "      <th>Pclass</th>\n",
       "      <th>Name</th>\n",
       "      <th>Sex</th>\n",
       "      <th>Age</th>\n",
       "      <th>SibSp</th>\n",
       "      <th>Parch</th>\n",
       "      <th>Ticket</th>\n",
       "      <th>Fare</th>\n",
       "      <th>Cabin</th>\n",
       "      <th>Embarked</th>\n",
       "    </tr>\n",
       "  </thead>\n",
       "  <tbody>\n",
       "    <tr>\n",
       "      <th>886</th>\n",
       "      <td>887</td>\n",
       "      <td>0</td>\n",
       "      <td>2</td>\n",
       "      <td>Montvila, Rev. Juozas</td>\n",
       "      <td>male</td>\n",
       "      <td>27.0</td>\n",
       "      <td>0</td>\n",
       "      <td>0</td>\n",
       "      <td>211536</td>\n",
       "      <td>13.00</td>\n",
       "      <td>NaN</td>\n",
       "      <td>S</td>\n",
       "    </tr>\n",
       "    <tr>\n",
       "      <th>887</th>\n",
       "      <td>888</td>\n",
       "      <td>1</td>\n",
       "      <td>1</td>\n",
       "      <td>Graham, Miss. Margaret Edith</td>\n",
       "      <td>female</td>\n",
       "      <td>19.0</td>\n",
       "      <td>0</td>\n",
       "      <td>0</td>\n",
       "      <td>112053</td>\n",
       "      <td>30.00</td>\n",
       "      <td>B42</td>\n",
       "      <td>S</td>\n",
       "    </tr>\n",
       "    <tr>\n",
       "      <th>888</th>\n",
       "      <td>889</td>\n",
       "      <td>0</td>\n",
       "      <td>3</td>\n",
       "      <td>Johnston, Miss. Catherine Helen \"Carrie\"</td>\n",
       "      <td>female</td>\n",
       "      <td>NaN</td>\n",
       "      <td>1</td>\n",
       "      <td>2</td>\n",
       "      <td>W./C. 6607</td>\n",
       "      <td>23.45</td>\n",
       "      <td>NaN</td>\n",
       "      <td>S</td>\n",
       "    </tr>\n",
       "    <tr>\n",
       "      <th>889</th>\n",
       "      <td>890</td>\n",
       "      <td>1</td>\n",
       "      <td>1</td>\n",
       "      <td>Behr, Mr. Karl Howell</td>\n",
       "      <td>male</td>\n",
       "      <td>26.0</td>\n",
       "      <td>0</td>\n",
       "      <td>0</td>\n",
       "      <td>111369</td>\n",
       "      <td>30.00</td>\n",
       "      <td>C148</td>\n",
       "      <td>C</td>\n",
       "    </tr>\n",
       "    <tr>\n",
       "      <th>890</th>\n",
       "      <td>891</td>\n",
       "      <td>0</td>\n",
       "      <td>3</td>\n",
       "      <td>Dooley, Mr. Patrick</td>\n",
       "      <td>male</td>\n",
       "      <td>32.0</td>\n",
       "      <td>0</td>\n",
       "      <td>0</td>\n",
       "      <td>370376</td>\n",
       "      <td>7.75</td>\n",
       "      <td>NaN</td>\n",
       "      <td>Q</td>\n",
       "    </tr>\n",
       "  </tbody>\n",
       "</table>\n",
       "</div>"
      ],
      "text/plain": [
       "     PassengerId  Survived  Pclass                                      Name  \\\n",
       "886          887         0       2                     Montvila, Rev. Juozas   \n",
       "887          888         1       1              Graham, Miss. Margaret Edith   \n",
       "888          889         0       3  Johnston, Miss. Catherine Helen \"Carrie\"   \n",
       "889          890         1       1                     Behr, Mr. Karl Howell   \n",
       "890          891         0       3                       Dooley, Mr. Patrick   \n",
       "\n",
       "        Sex   Age  SibSp  Parch      Ticket   Fare Cabin Embarked  \n",
       "886    male  27.0      0      0      211536  13.00   NaN        S  \n",
       "887  female  19.0      0      0      112053  30.00   B42        S  \n",
       "888  female   NaN      1      2  W./C. 6607  23.45   NaN        S  \n",
       "889    male  26.0      0      0      111369  30.00  C148        C  \n",
       "890    male  32.0      0      0      370376   7.75   NaN        Q  "
      ]
     },
     "execution_count": 28,
     "metadata": {},
     "output_type": "execute_result"
    }
   ],
   "source": [
    "# viewing from the bottom of the data.\n",
    "\n",
    "df.tail()"
   ]
  },
  {
   "cell_type": "code",
   "execution_count": 29,
   "id": "ae257809-6021-4866-9768-d68cf2f0e32d",
   "metadata": {},
   "outputs": [
    {
     "data": {
      "text/plain": [
       "(891, 12)"
      ]
     },
     "execution_count": 29,
     "metadata": {},
     "output_type": "execute_result"
    }
   ],
   "source": [
    "# viewing the number of rows and columns.\n",
    "\n",
    "df.shape"
   ]
  },
  {
   "cell_type": "code",
   "execution_count": 30,
   "id": "1327a0ce-7440-42ff-a534-997799f44ea4",
   "metadata": {},
   "outputs": [
    {
     "data": {
      "text/plain": [
       "Index(['PassengerId', 'Survived', 'Pclass', 'Name', 'Sex', 'Age', 'SibSp',\n",
       "       'Parch', 'Ticket', 'Fare', 'Cabin', 'Embarked'],\n",
       "      dtype='object')"
      ]
     },
     "execution_count": 30,
     "metadata": {},
     "output_type": "execute_result"
    }
   ],
   "source": [
    "# viewing columns.\n",
    "\n",
    "df.columns"
   ]
  },
  {
   "cell_type": "code",
   "execution_count": 31,
   "id": "4abd3979-6ea4-4111-8715-5be03753bc00",
   "metadata": {},
   "outputs": [
    {
     "data": {
      "text/plain": [
       "RangeIndex(start=0, stop=891, step=1)"
      ]
     },
     "execution_count": 31,
     "metadata": {},
     "output_type": "execute_result"
    }
   ],
   "source": [
    "# viewing the index.\n",
    "\n",
    "df.index"
   ]
  },
  {
   "cell_type": "code",
   "execution_count": 32,
   "id": "9cbc64e7-064e-4246-8b18-a5e55afbd48b",
   "metadata": {},
   "outputs": [
    {
     "data": {
      "text/html": [
       "<div>\n",
       "<style scoped>\n",
       "    .dataframe tbody tr th:only-of-type {\n",
       "        vertical-align: middle;\n",
       "    }\n",
       "\n",
       "    .dataframe tbody tr th {\n",
       "        vertical-align: top;\n",
       "    }\n",
       "\n",
       "    .dataframe thead th {\n",
       "        text-align: right;\n",
       "    }\n",
       "</style>\n",
       "<table border=\"1\" class=\"dataframe\">\n",
       "  <thead>\n",
       "    <tr style=\"text-align: right;\">\n",
       "      <th></th>\n",
       "      <th>PassengerId</th>\n",
       "      <th>Survived</th>\n",
       "      <th>Pclass</th>\n",
       "      <th>Age</th>\n",
       "      <th>SibSp</th>\n",
       "      <th>Parch</th>\n",
       "      <th>Fare</th>\n",
       "    </tr>\n",
       "  </thead>\n",
       "  <tbody>\n",
       "    <tr>\n",
       "      <th>count</th>\n",
       "      <td>891.000000</td>\n",
       "      <td>891.000000</td>\n",
       "      <td>891.000000</td>\n",
       "      <td>714.000000</td>\n",
       "      <td>891.000000</td>\n",
       "      <td>891.000000</td>\n",
       "      <td>891.000000</td>\n",
       "    </tr>\n",
       "    <tr>\n",
       "      <th>mean</th>\n",
       "      <td>446.000000</td>\n",
       "      <td>0.383838</td>\n",
       "      <td>2.308642</td>\n",
       "      <td>29.699118</td>\n",
       "      <td>0.523008</td>\n",
       "      <td>0.381594</td>\n",
       "      <td>32.204208</td>\n",
       "    </tr>\n",
       "    <tr>\n",
       "      <th>std</th>\n",
       "      <td>257.353842</td>\n",
       "      <td>0.486592</td>\n",
       "      <td>0.836071</td>\n",
       "      <td>14.526497</td>\n",
       "      <td>1.102743</td>\n",
       "      <td>0.806057</td>\n",
       "      <td>49.693429</td>\n",
       "    </tr>\n",
       "    <tr>\n",
       "      <th>min</th>\n",
       "      <td>1.000000</td>\n",
       "      <td>0.000000</td>\n",
       "      <td>1.000000</td>\n",
       "      <td>0.420000</td>\n",
       "      <td>0.000000</td>\n",
       "      <td>0.000000</td>\n",
       "      <td>0.000000</td>\n",
       "    </tr>\n",
       "    <tr>\n",
       "      <th>25%</th>\n",
       "      <td>223.500000</td>\n",
       "      <td>0.000000</td>\n",
       "      <td>2.000000</td>\n",
       "      <td>20.125000</td>\n",
       "      <td>0.000000</td>\n",
       "      <td>0.000000</td>\n",
       "      <td>7.910400</td>\n",
       "    </tr>\n",
       "    <tr>\n",
       "      <th>50%</th>\n",
       "      <td>446.000000</td>\n",
       "      <td>0.000000</td>\n",
       "      <td>3.000000</td>\n",
       "      <td>28.000000</td>\n",
       "      <td>0.000000</td>\n",
       "      <td>0.000000</td>\n",
       "      <td>14.454200</td>\n",
       "    </tr>\n",
       "    <tr>\n",
       "      <th>75%</th>\n",
       "      <td>668.500000</td>\n",
       "      <td>1.000000</td>\n",
       "      <td>3.000000</td>\n",
       "      <td>38.000000</td>\n",
       "      <td>1.000000</td>\n",
       "      <td>0.000000</td>\n",
       "      <td>31.000000</td>\n",
       "    </tr>\n",
       "    <tr>\n",
       "      <th>max</th>\n",
       "      <td>891.000000</td>\n",
       "      <td>1.000000</td>\n",
       "      <td>3.000000</td>\n",
       "      <td>80.000000</td>\n",
       "      <td>8.000000</td>\n",
       "      <td>6.000000</td>\n",
       "      <td>512.329200</td>\n",
       "    </tr>\n",
       "  </tbody>\n",
       "</table>\n",
       "</div>"
      ],
      "text/plain": [
       "       PassengerId    Survived      Pclass         Age       SibSp  \\\n",
       "count   891.000000  891.000000  891.000000  714.000000  891.000000   \n",
       "mean    446.000000    0.383838    2.308642   29.699118    0.523008   \n",
       "std     257.353842    0.486592    0.836071   14.526497    1.102743   \n",
       "min       1.000000    0.000000    1.000000    0.420000    0.000000   \n",
       "25%     223.500000    0.000000    2.000000   20.125000    0.000000   \n",
       "50%     446.000000    0.000000    3.000000   28.000000    0.000000   \n",
       "75%     668.500000    1.000000    3.000000   38.000000    1.000000   \n",
       "max     891.000000    1.000000    3.000000   80.000000    8.000000   \n",
       "\n",
       "            Parch        Fare  \n",
       "count  891.000000  891.000000  \n",
       "mean     0.381594   32.204208  \n",
       "std      0.806057   49.693429  \n",
       "min      0.000000    0.000000  \n",
       "25%      0.000000    7.910400  \n",
       "50%      0.000000   14.454200  \n",
       "75%      0.000000   31.000000  \n",
       "max      6.000000  512.329200  "
      ]
     },
     "execution_count": 32,
     "metadata": {},
     "output_type": "execute_result"
    }
   ],
   "source": [
    "# displaying information from numerical columns.\n",
    "\n",
    "df.describe()"
   ]
  },
  {
   "cell_type": "code",
   "execution_count": 33,
   "id": "735f4ba1-fb61-4790-9202-576a7312b0a2",
   "metadata": {},
   "outputs": [
    {
     "data": {
      "text/plain": [
       "29.69911764705882"
      ]
     },
     "execution_count": 33,
     "metadata": {},
     "output_type": "execute_result"
    }
   ],
   "source": [
    "# for example, displaying the average of the Age column.\n",
    "\n",
    "df['Age'].mean()"
   ]
  },
  {
   "cell_type": "code",
   "execution_count": 34,
   "id": "953af5eb-8793-4073-b9a4-2c352c5fbed3",
   "metadata": {},
   "outputs": [
    {
     "data": {
      "text/plain": [
       "28.0"
      ]
     },
     "execution_count": 34,
     "metadata": {},
     "output_type": "execute_result"
    }
   ],
   "source": [
    "# for example, displaying the median of the Age column.\n",
    "\n",
    "df['Age'].median()"
   ]
  },
  {
   "cell_type": "code",
   "execution_count": 35,
   "id": "1b0fe416-02d5-466e-b4a4-ebbf78cdef42",
   "metadata": {},
   "outputs": [
    {
     "data": {
      "text/plain": [
       "24.0"
      ]
     },
     "execution_count": 35,
     "metadata": {},
     "output_type": "execute_result"
    }
   ],
   "source": [
    "# for example, displaying the mode of the Age column.\n",
    "\n",
    "df['Age'].mode()[0]\n",
    "\n",
    "# why do we have to include [0] because there might be more than 1 mode right, well, we use [0] so that only 1 mode comes out."
   ]
  },
  {
   "cell_type": "code",
   "execution_count": 36,
   "id": "6cfb5381-806b-4f66-8f16-24919b74f46c",
   "metadata": {},
   "outputs": [
    {
     "data": {
      "text/plain": [
       "0.42"
      ]
     },
     "execution_count": 36,
     "metadata": {},
     "output_type": "execute_result"
    }
   ],
   "source": [
    "# for example, displaying the minimum value of the Age column.\n",
    "\n",
    "df['Age'].min()"
   ]
  },
  {
   "cell_type": "code",
   "execution_count": 37,
   "id": "30906516-bcca-41db-997f-4e8d3960e61d",
   "metadata": {},
   "outputs": [
    {
     "data": {
      "text/plain": [
       "80.0"
      ]
     },
     "execution_count": 37,
     "metadata": {},
     "output_type": "execute_result"
    }
   ],
   "source": [
    "# for example, displaying the maximum value of the Age column.\n",
    "\n",
    "df['Age'].max()"
   ]
  },
  {
   "cell_type": "code",
   "execution_count": 38,
   "id": "4fee8262-1395-49d5-ae6e-3189bd1cf6c7",
   "metadata": {},
   "outputs": [
    {
     "data": {
      "text/plain": [
       "29.69911764705882"
      ]
     },
     "execution_count": 38,
     "metadata": {},
     "output_type": "execute_result"
    }
   ],
   "source": [
    "# for example, viewing the mean of the Age column.\n",
    "\n",
    "df.Age.mean() \n",
    "\n",
    "# it should use a dot because it's only one word. If there's a space, there should be brackets, but it's safer to use brackets even if it's just one word."
   ]
  },
  {
   "cell_type": "code",
   "execution_count": 39,
   "id": "0f0974e7-3531-4b5d-8134-c3793008433b",
   "metadata": {},
   "outputs": [
    {
     "data": {
      "text/html": [
       "<div>\n",
       "<style scoped>\n",
       "    .dataframe tbody tr th:only-of-type {\n",
       "        vertical-align: middle;\n",
       "    }\n",
       "\n",
       "    .dataframe tbody tr th {\n",
       "        vertical-align: top;\n",
       "    }\n",
       "\n",
       "    .dataframe thead th {\n",
       "        text-align: right;\n",
       "    }\n",
       "</style>\n",
       "<table border=\"1\" class=\"dataframe\">\n",
       "  <thead>\n",
       "    <tr style=\"text-align: right;\">\n",
       "      <th></th>\n",
       "      <th>PassengerId</th>\n",
       "      <th>Survived</th>\n",
       "      <th>Pclass</th>\n",
       "      <th>Name</th>\n",
       "      <th>Sex</th>\n",
       "      <th>Age</th>\n",
       "      <th>SibSp</th>\n",
       "      <th>Parch</th>\n",
       "      <th>Ticket</th>\n",
       "      <th>Fare</th>\n",
       "      <th>Cabin</th>\n",
       "      <th>Embarked</th>\n",
       "    </tr>\n",
       "  </thead>\n",
       "  <tbody>\n",
       "    <tr>\n",
       "      <th>5</th>\n",
       "      <td>6</td>\n",
       "      <td>0</td>\n",
       "      <td>3</td>\n",
       "      <td>Moran, Mr. James</td>\n",
       "      <td>male</td>\n",
       "      <td>NaN</td>\n",
       "      <td>0</td>\n",
       "      <td>0</td>\n",
       "      <td>330877</td>\n",
       "      <td>8.4583</td>\n",
       "      <td>NaN</td>\n",
       "      <td>Q</td>\n",
       "    </tr>\n",
       "    <tr>\n",
       "      <th>17</th>\n",
       "      <td>18</td>\n",
       "      <td>1</td>\n",
       "      <td>2</td>\n",
       "      <td>Williams, Mr. Charles Eugene</td>\n",
       "      <td>male</td>\n",
       "      <td>NaN</td>\n",
       "      <td>0</td>\n",
       "      <td>0</td>\n",
       "      <td>244373</td>\n",
       "      <td>13.0000</td>\n",
       "      <td>NaN</td>\n",
       "      <td>S</td>\n",
       "    </tr>\n",
       "    <tr>\n",
       "      <th>19</th>\n",
       "      <td>20</td>\n",
       "      <td>1</td>\n",
       "      <td>3</td>\n",
       "      <td>Masselmani, Mrs. Fatima</td>\n",
       "      <td>female</td>\n",
       "      <td>NaN</td>\n",
       "      <td>0</td>\n",
       "      <td>0</td>\n",
       "      <td>2649</td>\n",
       "      <td>7.2250</td>\n",
       "      <td>NaN</td>\n",
       "      <td>C</td>\n",
       "    </tr>\n",
       "    <tr>\n",
       "      <th>26</th>\n",
       "      <td>27</td>\n",
       "      <td>0</td>\n",
       "      <td>3</td>\n",
       "      <td>Emir, Mr. Farred Chehab</td>\n",
       "      <td>male</td>\n",
       "      <td>NaN</td>\n",
       "      <td>0</td>\n",
       "      <td>0</td>\n",
       "      <td>2631</td>\n",
       "      <td>7.2250</td>\n",
       "      <td>NaN</td>\n",
       "      <td>C</td>\n",
       "    </tr>\n",
       "    <tr>\n",
       "      <th>28</th>\n",
       "      <td>29</td>\n",
       "      <td>1</td>\n",
       "      <td>3</td>\n",
       "      <td>O'Dwyer, Miss. Ellen \"Nellie\"</td>\n",
       "      <td>female</td>\n",
       "      <td>NaN</td>\n",
       "      <td>0</td>\n",
       "      <td>0</td>\n",
       "      <td>330959</td>\n",
       "      <td>7.8792</td>\n",
       "      <td>NaN</td>\n",
       "      <td>Q</td>\n",
       "    </tr>\n",
       "    <tr>\n",
       "      <th>...</th>\n",
       "      <td>...</td>\n",
       "      <td>...</td>\n",
       "      <td>...</td>\n",
       "      <td>...</td>\n",
       "      <td>...</td>\n",
       "      <td>...</td>\n",
       "      <td>...</td>\n",
       "      <td>...</td>\n",
       "      <td>...</td>\n",
       "      <td>...</td>\n",
       "      <td>...</td>\n",
       "      <td>...</td>\n",
       "    </tr>\n",
       "    <tr>\n",
       "      <th>859</th>\n",
       "      <td>860</td>\n",
       "      <td>0</td>\n",
       "      <td>3</td>\n",
       "      <td>Razi, Mr. Raihed</td>\n",
       "      <td>male</td>\n",
       "      <td>NaN</td>\n",
       "      <td>0</td>\n",
       "      <td>0</td>\n",
       "      <td>2629</td>\n",
       "      <td>7.2292</td>\n",
       "      <td>NaN</td>\n",
       "      <td>C</td>\n",
       "    </tr>\n",
       "    <tr>\n",
       "      <th>863</th>\n",
       "      <td>864</td>\n",
       "      <td>0</td>\n",
       "      <td>3</td>\n",
       "      <td>Sage, Miss. Dorothy Edith \"Dolly\"</td>\n",
       "      <td>female</td>\n",
       "      <td>NaN</td>\n",
       "      <td>8</td>\n",
       "      <td>2</td>\n",
       "      <td>CA. 2343</td>\n",
       "      <td>69.5500</td>\n",
       "      <td>NaN</td>\n",
       "      <td>S</td>\n",
       "    </tr>\n",
       "    <tr>\n",
       "      <th>868</th>\n",
       "      <td>869</td>\n",
       "      <td>0</td>\n",
       "      <td>3</td>\n",
       "      <td>van Melkebeke, Mr. Philemon</td>\n",
       "      <td>male</td>\n",
       "      <td>NaN</td>\n",
       "      <td>0</td>\n",
       "      <td>0</td>\n",
       "      <td>345777</td>\n",
       "      <td>9.5000</td>\n",
       "      <td>NaN</td>\n",
       "      <td>S</td>\n",
       "    </tr>\n",
       "    <tr>\n",
       "      <th>878</th>\n",
       "      <td>879</td>\n",
       "      <td>0</td>\n",
       "      <td>3</td>\n",
       "      <td>Laleff, Mr. Kristo</td>\n",
       "      <td>male</td>\n",
       "      <td>NaN</td>\n",
       "      <td>0</td>\n",
       "      <td>0</td>\n",
       "      <td>349217</td>\n",
       "      <td>7.8958</td>\n",
       "      <td>NaN</td>\n",
       "      <td>S</td>\n",
       "    </tr>\n",
       "    <tr>\n",
       "      <th>888</th>\n",
       "      <td>889</td>\n",
       "      <td>0</td>\n",
       "      <td>3</td>\n",
       "      <td>Johnston, Miss. Catherine Helen \"Carrie\"</td>\n",
       "      <td>female</td>\n",
       "      <td>NaN</td>\n",
       "      <td>1</td>\n",
       "      <td>2</td>\n",
       "      <td>W./C. 6607</td>\n",
       "      <td>23.4500</td>\n",
       "      <td>NaN</td>\n",
       "      <td>S</td>\n",
       "    </tr>\n",
       "  </tbody>\n",
       "</table>\n",
       "<p>177 rows × 12 columns</p>\n",
       "</div>"
      ],
      "text/plain": [
       "     PassengerId  Survived  Pclass                                      Name  \\\n",
       "5              6         0       3                          Moran, Mr. James   \n",
       "17            18         1       2              Williams, Mr. Charles Eugene   \n",
       "19            20         1       3                   Masselmani, Mrs. Fatima   \n",
       "26            27         0       3                   Emir, Mr. Farred Chehab   \n",
       "28            29         1       3             O'Dwyer, Miss. Ellen \"Nellie\"   \n",
       "..           ...       ...     ...                                       ...   \n",
       "859          860         0       3                          Razi, Mr. Raihed   \n",
       "863          864         0       3         Sage, Miss. Dorothy Edith \"Dolly\"   \n",
       "868          869         0       3               van Melkebeke, Mr. Philemon   \n",
       "878          879         0       3                        Laleff, Mr. Kristo   \n",
       "888          889         0       3  Johnston, Miss. Catherine Helen \"Carrie\"   \n",
       "\n",
       "        Sex  Age  SibSp  Parch      Ticket     Fare Cabin Embarked  \n",
       "5      male  NaN      0      0      330877   8.4583   NaN        Q  \n",
       "17     male  NaN      0      0      244373  13.0000   NaN        S  \n",
       "19   female  NaN      0      0        2649   7.2250   NaN        C  \n",
       "26     male  NaN      0      0        2631   7.2250   NaN        C  \n",
       "28   female  NaN      0      0      330959   7.8792   NaN        Q  \n",
       "..      ...  ...    ...    ...         ...      ...   ...      ...  \n",
       "859    male  NaN      0      0        2629   7.2292   NaN        C  \n",
       "863  female  NaN      8      2    CA. 2343  69.5500   NaN        S  \n",
       "868    male  NaN      0      0      345777   9.5000   NaN        S  \n",
       "878    male  NaN      0      0      349217   7.8958   NaN        S  \n",
       "888  female  NaN      1      2  W./C. 6607  23.4500   NaN        S  \n",
       "\n",
       "[177 rows x 12 columns]"
      ]
     },
     "execution_count": 39,
     "metadata": {},
     "output_type": "execute_result"
    }
   ],
   "source": [
    "# for example, checking for NaN in the Age column\n",
    "\n",
    "df[df['Age'].isnull()]"
   ]
  },
  {
   "cell_type": "code",
   "execution_count": 40,
   "id": "1120f2b4-a69a-4d29-9c05-cb62edabc0d1",
   "metadata": {},
   "outputs": [
    {
     "data": {
      "text/plain": [
       "[0      False\n",
       " 1      False\n",
       " 2      False\n",
       " 3      False\n",
       " 4      False\n",
       "        ...  \n",
       " 886    False\n",
       " 887    False\n",
       " 888     True\n",
       " 889    False\n",
       " 890    False\n",
       " Name: Age, Length: 891, dtype: bool]"
      ]
     },
     "execution_count": 40,
     "metadata": {},
     "output_type": "execute_result"
    }
   ],
   "source": [
    "# then masking it to observe NaN in the Age column\n",
    "\n",
    "[df['Age'].isnull()]\n",
    "\n",
    "# it displays the entire Age column data but only as true or false"
   ]
  },
  {
   "cell_type": "code",
   "execution_count": 41,
   "id": "041f4c8e-8ceb-46b1-adf4-c478703cbd8a",
   "metadata": {},
   "outputs": [
    {
     "data": {
      "text/plain": [
       "array(['male', 'female'], dtype=object)"
      ]
     },
     "execution_count": 41,
     "metadata": {},
     "output_type": "execute_result"
    }
   ],
   "source": [
    "# for example, observing unique data from the Sex column.\n",
    "\n",
    "df['Sex'].unique()"
   ]
  },
  {
   "cell_type": "code",
   "execution_count": 42,
   "id": "8cc0c557-aed8-4eee-aca6-2279c0a7407f",
   "metadata": {},
   "outputs": [
    {
     "data": {
      "text/plain": [
       "array([3, 1, 2], dtype=int64)"
      ]
     },
     "execution_count": 42,
     "metadata": {},
     "output_type": "execute_result"
    }
   ],
   "source": [
    "# for example, observing unique data from the Pclass column.\n",
    "\n",
    "df['Pclass'].unique()"
   ]
  },
  {
   "cell_type": "code",
   "execution_count": 43,
   "id": "85b1e84b-50d9-437b-b30a-f54fe3698620",
   "metadata": {},
   "outputs": [
    {
     "data": {
      "text/plain": [
       "2"
      ]
     },
     "execution_count": 43,
     "metadata": {},
     "output_type": "execute_result"
    }
   ],
   "source": [
    "# for example, checking the count of unique entries in the Sex column.\n",
    "\n",
    "df.Sex.nunique()"
   ]
  },
  {
   "cell_type": "markdown",
   "id": "ab719bf1-7a99-4d67-a44d-a789a2965e1e",
   "metadata": {},
   "source": [
    "Let's load another csv Dataset"
   ]
  },
  {
   "cell_type": "code",
   "execution_count": 44,
   "id": "5b5fdf78-33c9-48fa-bcdd-8132040c3654",
   "metadata": {},
   "outputs": [
    {
     "data": {
      "text/html": [
       "<div>\n",
       "<style scoped>\n",
       "    .dataframe tbody tr th:only-of-type {\n",
       "        vertical-align: middle;\n",
       "    }\n",
       "\n",
       "    .dataframe tbody tr th {\n",
       "        vertical-align: top;\n",
       "    }\n",
       "\n",
       "    .dataframe thead th {\n",
       "        text-align: right;\n",
       "    }\n",
       "</style>\n",
       "<table border=\"1\" class=\"dataframe\">\n",
       "  <thead>\n",
       "    <tr style=\"text-align: right;\">\n",
       "      <th></th>\n",
       "      <th>Stage Name</th>\n",
       "      <th>Full Name</th>\n",
       "      <th>Korean Name</th>\n",
       "      <th>K Stage Name</th>\n",
       "      <th>Date of Birth</th>\n",
       "      <th>Group</th>\n",
       "      <th>Debut</th>\n",
       "      <th>Company</th>\n",
       "      <th>Country</th>\n",
       "      <th>Second Country</th>\n",
       "      <th>Height</th>\n",
       "      <th>Weight</th>\n",
       "      <th>Birthplace</th>\n",
       "      <th>Other Group</th>\n",
       "      <th>Former Group</th>\n",
       "      <th>Gender</th>\n",
       "    </tr>\n",
       "  </thead>\n",
       "  <tbody>\n",
       "    <tr>\n",
       "      <th>0</th>\n",
       "      <td>2Soul</td>\n",
       "      <td>Kim Younghoon</td>\n",
       "      <td>김영훈</td>\n",
       "      <td>이솔</td>\n",
       "      <td>10/09/1997</td>\n",
       "      <td>7 O'clock</td>\n",
       "      <td>26/08/2014</td>\n",
       "      <td>Jungle</td>\n",
       "      <td>South Korea</td>\n",
       "      <td>NaN</td>\n",
       "      <td>172.0</td>\n",
       "      <td>55.0</td>\n",
       "      <td>NaN</td>\n",
       "      <td>NaN</td>\n",
       "      <td>NaN</td>\n",
       "      <td>M</td>\n",
       "    </tr>\n",
       "    <tr>\n",
       "      <th>1</th>\n",
       "      <td>A.M</td>\n",
       "      <td>Seong Hyunwoo</td>\n",
       "      <td>성현우</td>\n",
       "      <td>에이엠</td>\n",
       "      <td>31/12/1996</td>\n",
       "      <td>Limitless</td>\n",
       "      <td>9/07/2019</td>\n",
       "      <td>ONO</td>\n",
       "      <td>South Korea</td>\n",
       "      <td>NaN</td>\n",
       "      <td>181.0</td>\n",
       "      <td>62.0</td>\n",
       "      <td>NaN</td>\n",
       "      <td>NaN</td>\n",
       "      <td>NaN</td>\n",
       "      <td>M</td>\n",
       "    </tr>\n",
       "    <tr>\n",
       "      <th>2</th>\n",
       "      <td>Ace</td>\n",
       "      <td>Jang Wooyoung</td>\n",
       "      <td>장우영</td>\n",
       "      <td>에이스</td>\n",
       "      <td>28/08/1992</td>\n",
       "      <td>VAV</td>\n",
       "      <td>31/10/2015</td>\n",
       "      <td>A team</td>\n",
       "      <td>South Korea</td>\n",
       "      <td>NaN</td>\n",
       "      <td>177.0</td>\n",
       "      <td>63.0</td>\n",
       "      <td>NaN</td>\n",
       "      <td>NaN</td>\n",
       "      <td>NaN</td>\n",
       "      <td>M</td>\n",
       "    </tr>\n",
       "    <tr>\n",
       "      <th>3</th>\n",
       "      <td>Aeji</td>\n",
       "      <td>Kwon Aeji</td>\n",
       "      <td>권애지</td>\n",
       "      <td>애지</td>\n",
       "      <td>25/10/1999</td>\n",
       "      <td>Hash Tag</td>\n",
       "      <td>11/10/2017</td>\n",
       "      <td>LUK</td>\n",
       "      <td>South Korea</td>\n",
       "      <td>NaN</td>\n",
       "      <td>163.0</td>\n",
       "      <td>NaN</td>\n",
       "      <td>Daegu</td>\n",
       "      <td>NaN</td>\n",
       "      <td>NaN</td>\n",
       "      <td>F</td>\n",
       "    </tr>\n",
       "    <tr>\n",
       "      <th>4</th>\n",
       "      <td>AhIn</td>\n",
       "      <td>Lee Ahin</td>\n",
       "      <td>이아인</td>\n",
       "      <td>아인</td>\n",
       "      <td>27/09/1999</td>\n",
       "      <td>MOMOLAND</td>\n",
       "      <td>9/11/2016</td>\n",
       "      <td>Double Kick</td>\n",
       "      <td>South Korea</td>\n",
       "      <td>NaN</td>\n",
       "      <td>160.0</td>\n",
       "      <td>44.0</td>\n",
       "      <td>Wonju</td>\n",
       "      <td>NaN</td>\n",
       "      <td>NaN</td>\n",
       "      <td>F</td>\n",
       "    </tr>\n",
       "  </tbody>\n",
       "</table>\n",
       "</div>"
      ],
      "text/plain": [
       "  Stage Name      Full Name Korean Name K Stage Name Date of Birth      Group  \\\n",
       "0      2Soul  Kim Younghoon         김영훈           이솔    10/09/1997  7 O'clock   \n",
       "1        A.M  Seong Hyunwoo         성현우          에이엠    31/12/1996  Limitless   \n",
       "2        Ace  Jang Wooyoung         장우영          에이스    28/08/1992        VAV   \n",
       "3       Aeji      Kwon Aeji         권애지           애지    25/10/1999   Hash Tag   \n",
       "4       AhIn       Lee Ahin         이아인           아인    27/09/1999   MOMOLAND   \n",
       "\n",
       "        Debut      Company      Country Second Country  Height  Weight  \\\n",
       "0  26/08/2014       Jungle  South Korea            NaN   172.0    55.0   \n",
       "1   9/07/2019          ONO  South Korea            NaN   181.0    62.0   \n",
       "2  31/10/2015       A team  South Korea            NaN   177.0    63.0   \n",
       "3  11/10/2017          LUK  South Korea            NaN   163.0     NaN   \n",
       "4   9/11/2016  Double Kick  South Korea            NaN   160.0    44.0   \n",
       "\n",
       "  Birthplace Other Group Former Group Gender  \n",
       "0        NaN         NaN          NaN      M  \n",
       "1        NaN         NaN          NaN      M  \n",
       "2        NaN         NaN          NaN      M  \n",
       "3      Daegu         NaN          NaN      F  \n",
       "4      Wonju         NaN          NaN      F  "
      ]
     },
     "execution_count": 44,
     "metadata": {},
     "output_type": "execute_result"
    }
   ],
   "source": [
    "df = pd.read_csv('kpopidolsv3.csv')\n",
    "\n",
    "df.head()"
   ]
  },
  {
   "cell_type": "code",
   "execution_count": 45,
   "id": "c6779e94-32c3-4df2-9846-d8686264ae20",
   "metadata": {},
   "outputs": [
    {
     "name": "stdout",
     "output_type": "stream",
     "text": [
      "<class 'pandas.core.frame.DataFrame'>\n",
      "RangeIndex: 1778 entries, 0 to 1777\n",
      "Data columns (total 16 columns):\n",
      " #   Column          Non-Null Count  Dtype  \n",
      "---  ------          --------------  -----  \n",
      " 0   Stage Name      1778 non-null   object \n",
      " 1   Full Name       1769 non-null   object \n",
      " 2   Korean Name     1768 non-null   object \n",
      " 3   K Stage Name    1777 non-null   object \n",
      " 4   Date of Birth   1776 non-null   object \n",
      " 5   Group           1632 non-null   object \n",
      " 6   Debut           1632 non-null   object \n",
      " 7   Company         1632 non-null   object \n",
      " 8   Country         1778 non-null   object \n",
      " 9   Second Country  62 non-null     object \n",
      " 10  Height          836 non-null    float64\n",
      " 11  Weight          566 non-null    float64\n",
      " 12  Birthplace      834 non-null    object \n",
      " 13  Other Group     140 non-null    object \n",
      " 14  Former Group    264 non-null    object \n",
      " 15  Gender          1778 non-null   object \n",
      "dtypes: float64(2), object(14)\n",
      "memory usage: 222.4+ KB\n"
     ]
    }
   ],
   "source": [
    "df.info()"
   ]
  },
  {
   "cell_type": "code",
   "execution_count": 46,
   "id": "516b4121-7e58-42a3-a9e1-35ccdbb1cd46",
   "metadata": {},
   "outputs": [
    {
     "data": {
      "text/plain": [
       "Gender\n",
       "M    889\n",
       "F    889\n",
       "Name: count, dtype: int64"
      ]
     },
     "execution_count": 46,
     "metadata": {},
     "output_type": "execute_result"
    }
   ],
   "source": [
    "df.Gender.value_counts()"
   ]
  },
  {
   "cell_type": "markdown",
   "id": "6f4bba82-87f9-4dbe-a294-5bf78fc22818",
   "metadata": {},
   "source": [
    "### Unique & Nunique\r\n",
    "\r\n",
    "\"unique\" and \"ununique\" in the context of Python refer more to the presence of repeating or non-repeating elements in a data structure, and how to identify and manipulate those elements.\r\n",
    "\r\n",
    "Unique (non-repetitive) : to get the unique elements of a data structure like list, we can use set(). Set is a data structure that contains only unique elements"
   ]
  },
  {
   "cell_type": "code",
   "execution_count": 47,
   "id": "31452706-6ab7-4c0f-8016-90632c6c4dfc",
   "metadata": {},
   "outputs": [
    {
     "data": {
      "text/plain": [
       "array(['M', 'F'], dtype=object)"
      ]
     },
     "execution_count": 47,
     "metadata": {},
     "output_type": "execute_result"
    }
   ],
   "source": [
    "df['Gender'].unique()"
   ]
  },
  {
   "cell_type": "markdown",
   "id": "b4514816-f043-4835-b6b8-7082ff36ed33",
   "metadata": {},
   "source": [
    "Nunique (Repetitive or Duplicate) : To get repeated or duplicate elements from a data structure, we can use various approaches, for example by using certain functions or modules, or by manually looping through the data structure."
   ]
  },
  {
   "cell_type": "code",
   "execution_count": 48,
   "id": "d3465efe-80c2-4d48-bf65-04fd98ee8646",
   "metadata": {},
   "outputs": [
    {
     "data": {
      "text/plain": [
       "2"
      ]
     },
     "execution_count": 48,
     "metadata": {},
     "output_type": "execute_result"
    }
   ],
   "source": [
    "df['Gender'].nunique()"
   ]
  },
  {
   "cell_type": "code",
   "execution_count": 49,
   "id": "d5d2c387-e98b-4683-9335-a9d1ff4cac8b",
   "metadata": {},
   "outputs": [
    {
     "data": {
      "text/html": [
       "<div>\n",
       "<style scoped>\n",
       "    .dataframe tbody tr th:only-of-type {\n",
       "        vertical-align: middle;\n",
       "    }\n",
       "\n",
       "    .dataframe tbody tr th {\n",
       "        vertical-align: top;\n",
       "    }\n",
       "\n",
       "    .dataframe thead th {\n",
       "        text-align: right;\n",
       "    }\n",
       "</style>\n",
       "<table border=\"1\" class=\"dataframe\">\n",
       "  <thead>\n",
       "    <tr style=\"text-align: right;\">\n",
       "      <th></th>\n",
       "      <th>Stage Name</th>\n",
       "      <th>Group</th>\n",
       "      <th>Company</th>\n",
       "    </tr>\n",
       "  </thead>\n",
       "  <tbody>\n",
       "    <tr>\n",
       "      <th>0</th>\n",
       "      <td>2Soul</td>\n",
       "      <td>7 O'clock</td>\n",
       "      <td>Jungle</td>\n",
       "    </tr>\n",
       "    <tr>\n",
       "      <th>1</th>\n",
       "      <td>A.M</td>\n",
       "      <td>Limitless</td>\n",
       "      <td>ONO</td>\n",
       "    </tr>\n",
       "    <tr>\n",
       "      <th>2</th>\n",
       "      <td>Ace</td>\n",
       "      <td>VAV</td>\n",
       "      <td>A team</td>\n",
       "    </tr>\n",
       "    <tr>\n",
       "      <th>3</th>\n",
       "      <td>Aeji</td>\n",
       "      <td>Hash Tag</td>\n",
       "      <td>LUK</td>\n",
       "    </tr>\n",
       "    <tr>\n",
       "      <th>4</th>\n",
       "      <td>AhIn</td>\n",
       "      <td>MOMOLAND</td>\n",
       "      <td>Double Kick</td>\n",
       "    </tr>\n",
       "    <tr>\n",
       "      <th>...</th>\n",
       "      <td>...</td>\n",
       "      <td>...</td>\n",
       "      <td>...</td>\n",
       "    </tr>\n",
       "    <tr>\n",
       "      <th>1773</th>\n",
       "      <td>ZN</td>\n",
       "      <td>LABOUM</td>\n",
       "      <td>NH</td>\n",
       "    </tr>\n",
       "    <tr>\n",
       "      <th>1774</th>\n",
       "      <td>Zoa</td>\n",
       "      <td>Weeekly</td>\n",
       "      <td>Play M</td>\n",
       "    </tr>\n",
       "    <tr>\n",
       "      <th>1775</th>\n",
       "      <td>Zuho</td>\n",
       "      <td>SF9</td>\n",
       "      <td>FNC</td>\n",
       "    </tr>\n",
       "    <tr>\n",
       "      <th>1776</th>\n",
       "      <td>Z-UK</td>\n",
       "      <td>NaN</td>\n",
       "      <td>NaN</td>\n",
       "    </tr>\n",
       "    <tr>\n",
       "      <th>1777</th>\n",
       "      <td>Zuny</td>\n",
       "      <td>Ladies' Code</td>\n",
       "      <td>Polaris</td>\n",
       "    </tr>\n",
       "  </tbody>\n",
       "</table>\n",
       "<p>1778 rows × 3 columns</p>\n",
       "</div>"
      ],
      "text/plain": [
       "     Stage Name         Group      Company\n",
       "0         2Soul     7 O'clock       Jungle\n",
       "1           A.M     Limitless          ONO\n",
       "2           Ace           VAV       A team\n",
       "3          Aeji      Hash Tag          LUK\n",
       "4          AhIn      MOMOLAND  Double Kick\n",
       "...         ...           ...          ...\n",
       "1773         ZN        LABOUM           NH\n",
       "1774        Zoa       Weeekly       Play M\n",
       "1775       Zuho           SF9          FNC\n",
       "1776       Z-UK           NaN          NaN\n",
       "1777       Zuny  Ladies' Code      Polaris\n",
       "\n",
       "[1778 rows x 3 columns]"
      ]
     },
     "execution_count": 49,
     "metadata": {},
     "output_type": "execute_result"
    }
   ],
   "source": [
    "# how to call a specific column\n",
    "\n",
    "df[['Stage Name', 'Group', 'Company']]"
   ]
  },
  {
   "cell_type": "code",
   "execution_count": 50,
   "id": "711e0dce-696c-431d-95a0-2ba6529d7210",
   "metadata": {},
   "outputs": [
    {
     "data": {
      "text/html": [
       "<div>\n",
       "<style scoped>\n",
       "    .dataframe tbody tr th:only-of-type {\n",
       "        vertical-align: middle;\n",
       "    }\n",
       "\n",
       "    .dataframe tbody tr th {\n",
       "        vertical-align: top;\n",
       "    }\n",
       "\n",
       "    .dataframe thead th {\n",
       "        text-align: right;\n",
       "    }\n",
       "</style>\n",
       "<table border=\"1\" class=\"dataframe\">\n",
       "  <thead>\n",
       "    <tr style=\"text-align: right;\">\n",
       "      <th></th>\n",
       "      <th>Stage Name</th>\n",
       "      <th>Group</th>\n",
       "      <th>Company</th>\n",
       "    </tr>\n",
       "  </thead>\n",
       "  <tbody>\n",
       "    <tr>\n",
       "      <th>0</th>\n",
       "      <td>2Soul</td>\n",
       "      <td>7 O'clock</td>\n",
       "      <td>Jungle</td>\n",
       "    </tr>\n",
       "    <tr>\n",
       "      <th>1</th>\n",
       "      <td>A.M</td>\n",
       "      <td>Limitless</td>\n",
       "      <td>ONO</td>\n",
       "    </tr>\n",
       "    <tr>\n",
       "      <th>2</th>\n",
       "      <td>Ace</td>\n",
       "      <td>VAV</td>\n",
       "      <td>A team</td>\n",
       "    </tr>\n",
       "    <tr>\n",
       "      <th>3</th>\n",
       "      <td>Aeji</td>\n",
       "      <td>Hash Tag</td>\n",
       "      <td>LUK</td>\n",
       "    </tr>\n",
       "    <tr>\n",
       "      <th>4</th>\n",
       "      <td>AhIn</td>\n",
       "      <td>MOMOLAND</td>\n",
       "      <td>Double Kick</td>\n",
       "    </tr>\n",
       "    <tr>\n",
       "      <th>...</th>\n",
       "      <td>...</td>\n",
       "      <td>...</td>\n",
       "      <td>...</td>\n",
       "    </tr>\n",
       "    <tr>\n",
       "      <th>1773</th>\n",
       "      <td>ZN</td>\n",
       "      <td>LABOUM</td>\n",
       "      <td>NH</td>\n",
       "    </tr>\n",
       "    <tr>\n",
       "      <th>1774</th>\n",
       "      <td>Zoa</td>\n",
       "      <td>Weeekly</td>\n",
       "      <td>Play M</td>\n",
       "    </tr>\n",
       "    <tr>\n",
       "      <th>1775</th>\n",
       "      <td>Zuho</td>\n",
       "      <td>SF9</td>\n",
       "      <td>FNC</td>\n",
       "    </tr>\n",
       "    <tr>\n",
       "      <th>1776</th>\n",
       "      <td>Z-UK</td>\n",
       "      <td>NaN</td>\n",
       "      <td>NaN</td>\n",
       "    </tr>\n",
       "    <tr>\n",
       "      <th>1777</th>\n",
       "      <td>Zuny</td>\n",
       "      <td>Ladies' Code</td>\n",
       "      <td>Polaris</td>\n",
       "    </tr>\n",
       "  </tbody>\n",
       "</table>\n",
       "<p>1778 rows × 3 columns</p>\n",
       "</div>"
      ],
      "text/plain": [
       "     Stage Name         Group      Company\n",
       "0         2Soul     7 O'clock       Jungle\n",
       "1           A.M     Limitless          ONO\n",
       "2           Ace           VAV       A team\n",
       "3          Aeji      Hash Tag          LUK\n",
       "4          AhIn      MOMOLAND  Double Kick\n",
       "...         ...           ...          ...\n",
       "1773         ZN        LABOUM           NH\n",
       "1774        Zoa       Weeekly       Play M\n",
       "1775       Zuho           SF9          FNC\n",
       "1776       Z-UK           NaN          NaN\n",
       "1777       Zuny  Ladies' Code      Polaris\n",
       "\n",
       "[1778 rows x 3 columns]"
      ]
     },
     "execution_count": 50,
     "metadata": {},
     "output_type": "execute_result"
    }
   ],
   "source": [
    "# defined \n",
    "\n",
    "sel_columns = df[['Stage Name', 'Group', 'Company']]\n",
    "sel_columns"
   ]
  },
  {
   "cell_type": "code",
   "execution_count": 51,
   "id": "2f9014bd-c55a-49d1-b73c-9784d2bcc32f",
   "metadata": {},
   "outputs": [
    {
     "data": {
      "text/html": [
       "<div>\n",
       "<style scoped>\n",
       "    .dataframe tbody tr th:only-of-type {\n",
       "        vertical-align: middle;\n",
       "    }\n",
       "\n",
       "    .dataframe tbody tr th {\n",
       "        vertical-align: top;\n",
       "    }\n",
       "\n",
       "    .dataframe thead th {\n",
       "        text-align: right;\n",
       "    }\n",
       "</style>\n",
       "<table border=\"1\" class=\"dataframe\">\n",
       "  <thead>\n",
       "    <tr style=\"text-align: right;\">\n",
       "      <th></th>\n",
       "      <th>Stage Name</th>\n",
       "      <th>Full Name</th>\n",
       "      <th>Korean Name</th>\n",
       "      <th>K Stage Name</th>\n",
       "      <th>Date of Birth</th>\n",
       "      <th>Group</th>\n",
       "      <th>Debut</th>\n",
       "      <th>Company</th>\n",
       "      <th>Country</th>\n",
       "      <th>Second Country</th>\n",
       "      <th>Height</th>\n",
       "      <th>Weight</th>\n",
       "      <th>Birthplace</th>\n",
       "      <th>Other Group</th>\n",
       "      <th>Former Group</th>\n",
       "      <th>Gender</th>\n",
       "    </tr>\n",
       "  </thead>\n",
       "  <tbody>\n",
       "    <tr>\n",
       "      <th>55</th>\n",
       "      <td>Baekhyun</td>\n",
       "      <td>Byun Baekhyun</td>\n",
       "      <td>변백현</td>\n",
       "      <td>백현</td>\n",
       "      <td>6/05/1992</td>\n",
       "      <td>EXO</td>\n",
       "      <td>8/04/2012</td>\n",
       "      <td>SM</td>\n",
       "      <td>South Korea</td>\n",
       "      <td>NaN</td>\n",
       "      <td>174.0</td>\n",
       "      <td>58.0</td>\n",
       "      <td>Wonmi</td>\n",
       "      <td>EXO-CBX| SuperM</td>\n",
       "      <td>NaN</td>\n",
       "      <td>M</td>\n",
       "    </tr>\n",
       "    <tr>\n",
       "      <th>142</th>\n",
       "      <td>Chanyeol</td>\n",
       "      <td>Park Chanyeol</td>\n",
       "      <td>박찬열</td>\n",
       "      <td>찬열</td>\n",
       "      <td>27/11/1992</td>\n",
       "      <td>EXO</td>\n",
       "      <td>8/04/2012</td>\n",
       "      <td>SM</td>\n",
       "      <td>South Korea</td>\n",
       "      <td>NaN</td>\n",
       "      <td>185.0</td>\n",
       "      <td>70.0</td>\n",
       "      <td>Seoul</td>\n",
       "      <td>NaN</td>\n",
       "      <td>NaN</td>\n",
       "      <td>M</td>\n",
       "    </tr>\n",
       "    <tr>\n",
       "      <th>145</th>\n",
       "      <td>Chen</td>\n",
       "      <td>Kim Jongdae</td>\n",
       "      <td>김종대</td>\n",
       "      <td>첸</td>\n",
       "      <td>21/09/1992</td>\n",
       "      <td>EXO</td>\n",
       "      <td>8/04/2012</td>\n",
       "      <td>SM</td>\n",
       "      <td>South Korea</td>\n",
       "      <td>NaN</td>\n",
       "      <td>173.0</td>\n",
       "      <td>64.0</td>\n",
       "      <td>Silheung</td>\n",
       "      <td>EXO-CBX</td>\n",
       "      <td>NaN</td>\n",
       "      <td>M</td>\n",
       "    </tr>\n",
       "    <tr>\n",
       "      <th>175</th>\n",
       "      <td>D.O.</td>\n",
       "      <td>Do Kyungsoo</td>\n",
       "      <td>도경수</td>\n",
       "      <td>디오</td>\n",
       "      <td>12/01/1993</td>\n",
       "      <td>EXO</td>\n",
       "      <td>8/04/2012</td>\n",
       "      <td>SM</td>\n",
       "      <td>South Korea</td>\n",
       "      <td>NaN</td>\n",
       "      <td>173.0</td>\n",
       "      <td>60.0</td>\n",
       "      <td>Gyeonggi</td>\n",
       "      <td>NaN</td>\n",
       "      <td>NaN</td>\n",
       "      <td>M</td>\n",
       "    </tr>\n",
       "    <tr>\n",
       "      <th>843</th>\n",
       "      <td>Kai</td>\n",
       "      <td>Kim Jongin</td>\n",
       "      <td>김종인</td>\n",
       "      <td>카이</td>\n",
       "      <td>14/01/1994</td>\n",
       "      <td>EXO</td>\n",
       "      <td>8/04/2012</td>\n",
       "      <td>SM</td>\n",
       "      <td>South Korea</td>\n",
       "      <td>NaN</td>\n",
       "      <td>182.0</td>\n",
       "      <td>65.0</td>\n",
       "      <td>Suncheon</td>\n",
       "      <td>SuperM</td>\n",
       "      <td>NaN</td>\n",
       "      <td>M</td>\n",
       "    </tr>\n",
       "    <tr>\n",
       "      <th>925</th>\n",
       "      <td>Lay</td>\n",
       "      <td>Zhang Yixing</td>\n",
       "      <td>장이씽</td>\n",
       "      <td>레이</td>\n",
       "      <td>7/10/1991</td>\n",
       "      <td>EXO</td>\n",
       "      <td>8/04/2012</td>\n",
       "      <td>SM</td>\n",
       "      <td>China</td>\n",
       "      <td>NaN</td>\n",
       "      <td>177.0</td>\n",
       "      <td>60.0</td>\n",
       "      <td>Changsa</td>\n",
       "      <td>NaN</td>\n",
       "      <td>NaN</td>\n",
       "      <td>M</td>\n",
       "    </tr>\n",
       "    <tr>\n",
       "      <th>1225</th>\n",
       "      <td>Sehun</td>\n",
       "      <td>Oh Sehun</td>\n",
       "      <td>오세훈</td>\n",
       "      <td>세훈</td>\n",
       "      <td>12/04/1994</td>\n",
       "      <td>EXO</td>\n",
       "      <td>8/04/2012</td>\n",
       "      <td>SM</td>\n",
       "      <td>South Korea</td>\n",
       "      <td>NaN</td>\n",
       "      <td>181.0</td>\n",
       "      <td>63.0</td>\n",
       "      <td>Seoul</td>\n",
       "      <td>NaN</td>\n",
       "      <td>NaN</td>\n",
       "      <td>M</td>\n",
       "    </tr>\n",
       "    <tr>\n",
       "      <th>1394</th>\n",
       "      <td>Suho</td>\n",
       "      <td>Kim Junmyeon</td>\n",
       "      <td>김준면</td>\n",
       "      <td>수호</td>\n",
       "      <td>22/05/1991</td>\n",
       "      <td>EXO</td>\n",
       "      <td>8/04/2012</td>\n",
       "      <td>SM</td>\n",
       "      <td>South Korea</td>\n",
       "      <td>NaN</td>\n",
       "      <td>173.0</td>\n",
       "      <td>65.0</td>\n",
       "      <td>Seoul</td>\n",
       "      <td>NaN</td>\n",
       "      <td>NaN</td>\n",
       "      <td>M</td>\n",
       "    </tr>\n",
       "    <tr>\n",
       "      <th>1580</th>\n",
       "      <td>Xiumin</td>\n",
       "      <td>Kim Minseok</td>\n",
       "      <td>김민석</td>\n",
       "      <td>시우민</td>\n",
       "      <td>26/03/1990</td>\n",
       "      <td>EXO</td>\n",
       "      <td>8/04/2012</td>\n",
       "      <td>SM</td>\n",
       "      <td>South Korea</td>\n",
       "      <td>NaN</td>\n",
       "      <td>173.0</td>\n",
       "      <td>65.0</td>\n",
       "      <td>Guri</td>\n",
       "      <td>EXO-CBX</td>\n",
       "      <td>NaN</td>\n",
       "      <td>M</td>\n",
       "    </tr>\n",
       "  </tbody>\n",
       "</table>\n",
       "</div>"
      ],
      "text/plain": [
       "     Stage Name      Full Name Korean Name K Stage Name Date of Birth Group  \\\n",
       "55     Baekhyun  Byun Baekhyun         변백현           백현     6/05/1992   EXO   \n",
       "142    Chanyeol  Park Chanyeol         박찬열           찬열    27/11/1992   EXO   \n",
       "145        Chen    Kim Jongdae         김종대            첸    21/09/1992   EXO   \n",
       "175        D.O.    Do Kyungsoo         도경수           디오    12/01/1993   EXO   \n",
       "843         Kai     Kim Jongin         김종인           카이    14/01/1994   EXO   \n",
       "925         Lay   Zhang Yixing         장이씽           레이     7/10/1991   EXO   \n",
       "1225      Sehun       Oh Sehun         오세훈           세훈    12/04/1994   EXO   \n",
       "1394       Suho   Kim Junmyeon         김준면           수호    22/05/1991   EXO   \n",
       "1580     Xiumin    Kim Minseok         김민석          시우민    26/03/1990   EXO   \n",
       "\n",
       "          Debut Company      Country Second Country  Height  Weight  \\\n",
       "55    8/04/2012      SM  South Korea            NaN   174.0    58.0   \n",
       "142   8/04/2012      SM  South Korea            NaN   185.0    70.0   \n",
       "145   8/04/2012      SM  South Korea            NaN   173.0    64.0   \n",
       "175   8/04/2012      SM  South Korea            NaN   173.0    60.0   \n",
       "843   8/04/2012      SM  South Korea            NaN   182.0    65.0   \n",
       "925   8/04/2012      SM        China            NaN   177.0    60.0   \n",
       "1225  8/04/2012      SM  South Korea            NaN   181.0    63.0   \n",
       "1394  8/04/2012      SM  South Korea            NaN   173.0    65.0   \n",
       "1580  8/04/2012      SM  South Korea            NaN   173.0    65.0   \n",
       "\n",
       "     Birthplace      Other Group Former Group Gender  \n",
       "55        Wonmi  EXO-CBX| SuperM          NaN      M  \n",
       "142       Seoul              NaN          NaN      M  \n",
       "145    Silheung          EXO-CBX          NaN      M  \n",
       "175    Gyeonggi              NaN          NaN      M  \n",
       "843    Suncheon           SuperM          NaN      M  \n",
       "925     Changsa              NaN          NaN      M  \n",
       "1225      Seoul              NaN          NaN      M  \n",
       "1394      Seoul              NaN          NaN      M  \n",
       "1580       Guri          EXO-CBX          NaN      M  "
      ]
     },
     "execution_count": 51,
     "metadata": {},
     "output_type": "execute_result"
    }
   ],
   "source": [
    "df [df['Group'] == 'EXO']"
   ]
  },
  {
   "cell_type": "code",
   "execution_count": 53,
   "id": "f1ddb495-990b-45a1-bb9a-d92b11e32253",
   "metadata": {},
   "outputs": [
    {
     "data": {
      "text/html": [
       "<div>\n",
       "<style scoped>\n",
       "    .dataframe tbody tr th:only-of-type {\n",
       "        vertical-align: middle;\n",
       "    }\n",
       "\n",
       "    .dataframe tbody tr th {\n",
       "        vertical-align: top;\n",
       "    }\n",
       "\n",
       "    .dataframe thead th {\n",
       "        text-align: right;\n",
       "    }\n",
       "</style>\n",
       "<table border=\"1\" class=\"dataframe\">\n",
       "  <thead>\n",
       "    <tr style=\"text-align: right;\">\n",
       "      <th></th>\n",
       "      <th>Stage Name</th>\n",
       "      <th>Full Name</th>\n",
       "      <th>Korean Name</th>\n",
       "      <th>K Stage Name</th>\n",
       "      <th>Date of Birth</th>\n",
       "      <th>Group</th>\n",
       "      <th>Debut</th>\n",
       "      <th>Company</th>\n",
       "      <th>Country</th>\n",
       "      <th>Second Country</th>\n",
       "      <th>Height</th>\n",
       "      <th>Weight</th>\n",
       "      <th>Birthplace</th>\n",
       "      <th>Other Group</th>\n",
       "      <th>Former Group</th>\n",
       "      <th>Gender</th>\n",
       "    </tr>\n",
       "  </thead>\n",
       "  <tbody>\n",
       "    <tr>\n",
       "      <th>51</th>\n",
       "      <td>Baek Seung</td>\n",
       "      <td>Kim Hyunwoo</td>\n",
       "      <td>김현우</td>\n",
       "      <td>백승</td>\n",
       "      <td>5/10/2004</td>\n",
       "      <td>EPEX</td>\n",
       "      <td>8/06/2021</td>\n",
       "      <td>C9</td>\n",
       "      <td>South Korea</td>\n",
       "      <td>NaN</td>\n",
       "      <td>186.0</td>\n",
       "      <td>64.0</td>\n",
       "      <td>Seoul</td>\n",
       "      <td>NaN</td>\n",
       "      <td>NaN</td>\n",
       "      <td>M</td>\n",
       "    </tr>\n",
       "    <tr>\n",
       "      <th>578</th>\n",
       "      <td>Hyunsuk</td>\n",
       "      <td>Yoon Hyunsuk</td>\n",
       "      <td>윤현석</td>\n",
       "      <td>현석</td>\n",
       "      <td>8/09/2001</td>\n",
       "      <td>CIX</td>\n",
       "      <td>23/07/2019</td>\n",
       "      <td>C9</td>\n",
       "      <td>South Korea</td>\n",
       "      <td>NaN</td>\n",
       "      <td>188.0</td>\n",
       "      <td>NaN</td>\n",
       "      <td>NaN</td>\n",
       "      <td>NaN</td>\n",
       "      <td>NaN</td>\n",
       "      <td>M</td>\n",
       "    </tr>\n",
       "    <tr>\n",
       "      <th>695</th>\n",
       "      <td>Jihun</td>\n",
       "      <td>Kim Jihun</td>\n",
       "      <td>김지훈</td>\n",
       "      <td>지훈</td>\n",
       "      <td>20/02/1995</td>\n",
       "      <td>KNK</td>\n",
       "      <td>3/03/2016</td>\n",
       "      <td>YNB</td>\n",
       "      <td>South Korea</td>\n",
       "      <td>NaN</td>\n",
       "      <td>186.0</td>\n",
       "      <td>73.0</td>\n",
       "      <td>NaN</td>\n",
       "      <td>NaN</td>\n",
       "      <td>NaN</td>\n",
       "      <td>M</td>\n",
       "    </tr>\n",
       "    <tr>\n",
       "      <th>792</th>\n",
       "      <td>Jukang</td>\n",
       "      <td>Lee Hyowon</td>\n",
       "      <td>이효원</td>\n",
       "      <td>주강</td>\n",
       "      <td>22/11/2002</td>\n",
       "      <td>JWiiver</td>\n",
       "      <td>17/02/2022</td>\n",
       "      <td>JTG</td>\n",
       "      <td>South Korea</td>\n",
       "      <td>NaN</td>\n",
       "      <td>186.0</td>\n",
       "      <td>NaN</td>\n",
       "      <td>Daegu</td>\n",
       "      <td>NaN</td>\n",
       "      <td>NaN</td>\n",
       "      <td>M</td>\n",
       "    </tr>\n",
       "    <tr>\n",
       "      <th>896</th>\n",
       "      <td>Kris</td>\n",
       "      <td>Wu Yifan</td>\n",
       "      <td>오역범</td>\n",
       "      <td>크리스</td>\n",
       "      <td>6/11/1990</td>\n",
       "      <td>NaN</td>\n",
       "      <td>NaN</td>\n",
       "      <td>NaN</td>\n",
       "      <td>Canada</td>\n",
       "      <td>China</td>\n",
       "      <td>187.0</td>\n",
       "      <td>73.0</td>\n",
       "      <td>Guangzhou</td>\n",
       "      <td>NaN</td>\n",
       "      <td>EXO</td>\n",
       "      <td>M</td>\n",
       "    </tr>\n",
       "    <tr>\n",
       "      <th>915</th>\n",
       "      <td>Kyungmin</td>\n",
       "      <td>Jo Kyungmin</td>\n",
       "      <td>조경민</td>\n",
       "      <td>경민</td>\n",
       "      <td>28/10/2004</td>\n",
       "      <td>8TURN</td>\n",
       "      <td>30/01/2023</td>\n",
       "      <td>MNH</td>\n",
       "      <td>South Korea</td>\n",
       "      <td>NaN</td>\n",
       "      <td>187.0</td>\n",
       "      <td>60.0</td>\n",
       "      <td>Gyeonggi</td>\n",
       "      <td>NaN</td>\n",
       "      <td>NaN</td>\n",
       "      <td>M</td>\n",
       "    </tr>\n",
       "    <tr>\n",
       "      <th>964</th>\n",
       "      <td>Lou</td>\n",
       "      <td>Kim Hosung</td>\n",
       "      <td>김호성</td>\n",
       "      <td>로우</td>\n",
       "      <td>21/12/1996</td>\n",
       "      <td>VAV</td>\n",
       "      <td>31/10/2015</td>\n",
       "      <td>A team</td>\n",
       "      <td>South Korea</td>\n",
       "      <td>NaN</td>\n",
       "      <td>187.0</td>\n",
       "      <td>69.0</td>\n",
       "      <td>NaN</td>\n",
       "      <td>NaN</td>\n",
       "      <td>NaN</td>\n",
       "      <td>M</td>\n",
       "    </tr>\n",
       "    <tr>\n",
       "      <th>1235</th>\n",
       "      <td>Seoham</td>\n",
       "      <td>Park Seoham</td>\n",
       "      <td>박서함</td>\n",
       "      <td>서함</td>\n",
       "      <td>28/10/1993</td>\n",
       "      <td>KNK</td>\n",
       "      <td>3/03/2016</td>\n",
       "      <td>YNB</td>\n",
       "      <td>South Korea</td>\n",
       "      <td>NaN</td>\n",
       "      <td>190.0</td>\n",
       "      <td>70.0</td>\n",
       "      <td>NaN</td>\n",
       "      <td>NaN</td>\n",
       "      <td>NaN</td>\n",
       "      <td>M</td>\n",
       "    </tr>\n",
       "    <tr>\n",
       "      <th>1415</th>\n",
       "      <td>Sunghyun</td>\n",
       "      <td>Kim Sunghyun</td>\n",
       "      <td>김성현</td>\n",
       "      <td>성현</td>\n",
       "      <td>16/03/1996</td>\n",
       "      <td>IN2IT</td>\n",
       "      <td>27/01/2016</td>\n",
       "      <td>Star Empire</td>\n",
       "      <td>South Korea</td>\n",
       "      <td>NaN</td>\n",
       "      <td>186.0</td>\n",
       "      <td>71.0</td>\n",
       "      <td>NaN</td>\n",
       "      <td>NaN</td>\n",
       "      <td>NaN</td>\n",
       "      <td>M</td>\n",
       "    </tr>\n",
       "    <tr>\n",
       "      <th>1479</th>\n",
       "      <td>Takuya</td>\n",
       "      <td>Terada Takuya</td>\n",
       "      <td>테라다 타쿠야</td>\n",
       "      <td>타쿠야</td>\n",
       "      <td>18/03/1992</td>\n",
       "      <td>CROSS GENE</td>\n",
       "      <td>8/07/2012</td>\n",
       "      <td>Amuse</td>\n",
       "      <td>Japan</td>\n",
       "      <td>NaN</td>\n",
       "      <td>187.0</td>\n",
       "      <td>68.0</td>\n",
       "      <td>Moriya</td>\n",
       "      <td>NaN</td>\n",
       "      <td>NaN</td>\n",
       "      <td>M</td>\n",
       "    </tr>\n",
       "    <tr>\n",
       "      <th>1534</th>\n",
       "      <td>Wonjun</td>\n",
       "      <td>Jeong Wonjun</td>\n",
       "      <td>정원준</td>\n",
       "      <td>원준</td>\n",
       "      <td>21/07/1998</td>\n",
       "      <td>ABLUE</td>\n",
       "      <td>23/10/2022</td>\n",
       "      <td>J-Star</td>\n",
       "      <td>South Korea</td>\n",
       "      <td>NaN</td>\n",
       "      <td>187.0</td>\n",
       "      <td>73.0</td>\n",
       "      <td>NaN</td>\n",
       "      <td>NaN</td>\n",
       "      <td>ZPZG</td>\n",
       "      <td>M</td>\n",
       "    </tr>\n",
       "  </tbody>\n",
       "</table>\n",
       "</div>"
      ],
      "text/plain": [
       "      Stage Name      Full Name Korean Name K Stage Name Date of Birth  \\\n",
       "51    Baek Seung    Kim Hyunwoo         김현우           백승     5/10/2004   \n",
       "578      Hyunsuk   Yoon Hyunsuk         윤현석           현석     8/09/2001   \n",
       "695        Jihun      Kim Jihun         김지훈           지훈    20/02/1995   \n",
       "792       Jukang     Lee Hyowon         이효원           주강    22/11/2002   \n",
       "896         Kris       Wu Yifan         오역범          크리스     6/11/1990   \n",
       "915     Kyungmin    Jo Kyungmin         조경민           경민    28/10/2004   \n",
       "964          Lou     Kim Hosung         김호성           로우    21/12/1996   \n",
       "1235      Seoham    Park Seoham         박서함           서함    28/10/1993   \n",
       "1415    Sunghyun   Kim Sunghyun         김성현           성현    16/03/1996   \n",
       "1479      Takuya  Terada Takuya     테라다 타쿠야          타쿠야    18/03/1992   \n",
       "1534      Wonjun   Jeong Wonjun         정원준           원준    21/07/1998   \n",
       "\n",
       "           Group       Debut      Company      Country Second Country  Height  \\\n",
       "51          EPEX   8/06/2021           C9  South Korea            NaN   186.0   \n",
       "578          CIX  23/07/2019           C9  South Korea            NaN   188.0   \n",
       "695          KNK   3/03/2016          YNB  South Korea            NaN   186.0   \n",
       "792      JWiiver  17/02/2022          JTG  South Korea            NaN   186.0   \n",
       "896          NaN         NaN          NaN       Canada          China   187.0   \n",
       "915        8TURN  30/01/2023          MNH  South Korea            NaN   187.0   \n",
       "964          VAV  31/10/2015       A team  South Korea            NaN   187.0   \n",
       "1235         KNK   3/03/2016          YNB  South Korea            NaN   190.0   \n",
       "1415       IN2IT  27/01/2016  Star Empire  South Korea            NaN   186.0   \n",
       "1479  CROSS GENE   8/07/2012        Amuse        Japan            NaN   187.0   \n",
       "1534       ABLUE  23/10/2022       J-Star  South Korea            NaN   187.0   \n",
       "\n",
       "      Weight Birthplace Other Group Former Group Gender  \n",
       "51      64.0      Seoul         NaN          NaN      M  \n",
       "578      NaN        NaN         NaN          NaN      M  \n",
       "695     73.0        NaN         NaN          NaN      M  \n",
       "792      NaN      Daegu         NaN          NaN      M  \n",
       "896     73.0  Guangzhou         NaN          EXO      M  \n",
       "915     60.0   Gyeonggi         NaN          NaN      M  \n",
       "964     69.0        NaN         NaN          NaN      M  \n",
       "1235    70.0        NaN         NaN          NaN      M  \n",
       "1415    71.0        NaN         NaN          NaN      M  \n",
       "1479    68.0     Moriya         NaN          NaN      M  \n",
       "1534    73.0        NaN         NaN         ZPZG      M  "
      ]
     },
     "execution_count": 53,
     "metadata": {},
     "output_type": "execute_result"
    }
   ],
   "source": [
    "# for example calling the Height column more than 185 cm\n",
    "\n",
    "df[df['Height'] > 185]"
   ]
  },
  {
   "cell_type": "code",
   "execution_count": 54,
   "id": "baebc641-1ab3-409a-b538-6d28361a508a",
   "metadata": {},
   "outputs": [
    {
     "data": {
      "text/html": [
       "<div>\n",
       "<style scoped>\n",
       "    .dataframe tbody tr th:only-of-type {\n",
       "        vertical-align: middle;\n",
       "    }\n",
       "\n",
       "    .dataframe tbody tr th {\n",
       "        vertical-align: top;\n",
       "    }\n",
       "\n",
       "    .dataframe thead th {\n",
       "        text-align: right;\n",
       "    }\n",
       "</style>\n",
       "<table border=\"1\" class=\"dataframe\">\n",
       "  <thead>\n",
       "    <tr style=\"text-align: right;\">\n",
       "      <th></th>\n",
       "      <th>Stage Name</th>\n",
       "      <th>Full Name</th>\n",
       "      <th>Korean Name</th>\n",
       "      <th>K Stage Name</th>\n",
       "      <th>Date of Birth</th>\n",
       "      <th>Group</th>\n",
       "      <th>Debut</th>\n",
       "      <th>Company</th>\n",
       "      <th>Country</th>\n",
       "      <th>Second Country</th>\n",
       "      <th>Height</th>\n",
       "      <th>Weight</th>\n",
       "      <th>Birthplace</th>\n",
       "      <th>Other Group</th>\n",
       "      <th>Former Group</th>\n",
       "      <th>Gender</th>\n",
       "    </tr>\n",
       "  </thead>\n",
       "  <tbody>\n",
       "    <tr>\n",
       "      <th>3</th>\n",
       "      <td>Aeji</td>\n",
       "      <td>Kwon Aeji</td>\n",
       "      <td>권애지</td>\n",
       "      <td>애지</td>\n",
       "      <td>25/10/1999</td>\n",
       "      <td>Hash Tag</td>\n",
       "      <td>11/10/2017</td>\n",
       "      <td>LUK</td>\n",
       "      <td>South Korea</td>\n",
       "      <td>NaN</td>\n",
       "      <td>163.0</td>\n",
       "      <td>NaN</td>\n",
       "      <td>Daegu</td>\n",
       "      <td>NaN</td>\n",
       "      <td>NaN</td>\n",
       "      <td>F</td>\n",
       "    </tr>\n",
       "    <tr>\n",
       "      <th>4</th>\n",
       "      <td>AhIn</td>\n",
       "      <td>Lee Ahin</td>\n",
       "      <td>이아인</td>\n",
       "      <td>아인</td>\n",
       "      <td>27/09/1999</td>\n",
       "      <td>MOMOLAND</td>\n",
       "      <td>9/11/2016</td>\n",
       "      <td>Double Kick</td>\n",
       "      <td>South Korea</td>\n",
       "      <td>NaN</td>\n",
       "      <td>160.0</td>\n",
       "      <td>44.0</td>\n",
       "      <td>Wonju</td>\n",
       "      <td>NaN</td>\n",
       "      <td>NaN</td>\n",
       "      <td>F</td>\n",
       "    </tr>\n",
       "    <tr>\n",
       "      <th>5</th>\n",
       "      <td>Ahra</td>\n",
       "      <td>Go Ahra</td>\n",
       "      <td>고아라</td>\n",
       "      <td>아라</td>\n",
       "      <td>21/02/2001</td>\n",
       "      <td>Favorite</td>\n",
       "      <td>5/07/2017</td>\n",
       "      <td>Astory</td>\n",
       "      <td>South Korea</td>\n",
       "      <td>NaN</td>\n",
       "      <td>NaN</td>\n",
       "      <td>NaN</td>\n",
       "      <td>Yeosu</td>\n",
       "      <td>NaN</td>\n",
       "      <td>NaN</td>\n",
       "      <td>F</td>\n",
       "    </tr>\n",
       "    <tr>\n",
       "      <th>6</th>\n",
       "      <td>Ahyeon</td>\n",
       "      <td>Jung Ahyeon</td>\n",
       "      <td>정아현</td>\n",
       "      <td>아현</td>\n",
       "      <td>11/04/2007</td>\n",
       "      <td>BABYMONSTER</td>\n",
       "      <td>0/01/1900</td>\n",
       "      <td>YG</td>\n",
       "      <td>South Korea</td>\n",
       "      <td>NaN</td>\n",
       "      <td>NaN</td>\n",
       "      <td>NaN</td>\n",
       "      <td>NaN</td>\n",
       "      <td>NaN</td>\n",
       "      <td>NaN</td>\n",
       "      <td>F</td>\n",
       "    </tr>\n",
       "    <tr>\n",
       "      <th>7</th>\n",
       "      <td>Ahyoon</td>\n",
       "      <td>Choi Subin</td>\n",
       "      <td>최수빈</td>\n",
       "      <td>아윤</td>\n",
       "      <td>23/10/2004</td>\n",
       "      <td>BOTOPASS</td>\n",
       "      <td>26/08/2020</td>\n",
       "      <td>WKS ENE</td>\n",
       "      <td>South Korea</td>\n",
       "      <td>NaN</td>\n",
       "      <td>NaN</td>\n",
       "      <td>NaN</td>\n",
       "      <td>NaN</td>\n",
       "      <td>NaN</td>\n",
       "      <td>NaN</td>\n",
       "      <td>F</td>\n",
       "    </tr>\n",
       "    <tr>\n",
       "      <th>...</th>\n",
       "      <td>...</td>\n",
       "      <td>...</td>\n",
       "      <td>...</td>\n",
       "      <td>...</td>\n",
       "      <td>...</td>\n",
       "      <td>...</td>\n",
       "      <td>...</td>\n",
       "      <td>...</td>\n",
       "      <td>...</td>\n",
       "      <td>...</td>\n",
       "      <td>...</td>\n",
       "      <td>...</td>\n",
       "      <td>...</td>\n",
       "      <td>...</td>\n",
       "      <td>...</td>\n",
       "      <td>...</td>\n",
       "    </tr>\n",
       "    <tr>\n",
       "      <th>1768</th>\n",
       "      <td>Zero</td>\n",
       "      <td>Nasukawa Shota</td>\n",
       "      <td>나스카와 쇼타</td>\n",
       "      <td>제로</td>\n",
       "      <td>20/01/2003</td>\n",
       "      <td>T1419</td>\n",
       "      <td>21/09/2007</td>\n",
       "      <td>CJ E&amp;M</td>\n",
       "      <td>Japan</td>\n",
       "      <td>NaN</td>\n",
       "      <td>NaN</td>\n",
       "      <td>NaN</td>\n",
       "      <td>NaN</td>\n",
       "      <td>NaN</td>\n",
       "      <td>NaN</td>\n",
       "      <td>M</td>\n",
       "    </tr>\n",
       "    <tr>\n",
       "      <th>1771</th>\n",
       "      <td>Zin</td>\n",
       "      <td>Jin Hyunbin</td>\n",
       "      <td>진현빈</td>\n",
       "      <td>지인</td>\n",
       "      <td>31/08/2001</td>\n",
       "      <td>bugAboo</td>\n",
       "      <td>25/10/2021</td>\n",
       "      <td>A team</td>\n",
       "      <td>South Korea</td>\n",
       "      <td>NaN</td>\n",
       "      <td>NaN</td>\n",
       "      <td>NaN</td>\n",
       "      <td>NaN</td>\n",
       "      <td>NaN</td>\n",
       "      <td>NaN</td>\n",
       "      <td>F</td>\n",
       "    </tr>\n",
       "    <tr>\n",
       "      <th>1774</th>\n",
       "      <td>Zoa</td>\n",
       "      <td>Cho Hyewon</td>\n",
       "      <td>조혜원</td>\n",
       "      <td>조아</td>\n",
       "      <td>31/05/2005</td>\n",
       "      <td>Weeekly</td>\n",
       "      <td>30/07/2020</td>\n",
       "      <td>Play M</td>\n",
       "      <td>South Korea</td>\n",
       "      <td>NaN</td>\n",
       "      <td>170.0</td>\n",
       "      <td>NaN</td>\n",
       "      <td>NaN</td>\n",
       "      <td>NaN</td>\n",
       "      <td>NaN</td>\n",
       "      <td>F</td>\n",
       "    </tr>\n",
       "    <tr>\n",
       "      <th>1775</th>\n",
       "      <td>Zuho</td>\n",
       "      <td>Bae Juho</td>\n",
       "      <td>백주호</td>\n",
       "      <td>주호</td>\n",
       "      <td>4/07/1996</td>\n",
       "      <td>SF9</td>\n",
       "      <td>5/10/2016</td>\n",
       "      <td>FNC</td>\n",
       "      <td>South Korea</td>\n",
       "      <td>NaN</td>\n",
       "      <td>NaN</td>\n",
       "      <td>NaN</td>\n",
       "      <td>NaN</td>\n",
       "      <td>NaN</td>\n",
       "      <td>NaN</td>\n",
       "      <td>M</td>\n",
       "    </tr>\n",
       "    <tr>\n",
       "      <th>1777</th>\n",
       "      <td>Zuny</td>\n",
       "      <td>Kim Joomi</td>\n",
       "      <td>김주미</td>\n",
       "      <td>주니</td>\n",
       "      <td>8/12/1994</td>\n",
       "      <td>Ladies' Code</td>\n",
       "      <td>7/03/2013</td>\n",
       "      <td>Polaris</td>\n",
       "      <td>South Korea</td>\n",
       "      <td>NaN</td>\n",
       "      <td>NaN</td>\n",
       "      <td>NaN</td>\n",
       "      <td>Gwangju</td>\n",
       "      <td>NaN</td>\n",
       "      <td>NaN</td>\n",
       "      <td>F</td>\n",
       "    </tr>\n",
       "  </tbody>\n",
       "</table>\n",
       "<p>1307 rows × 16 columns</p>\n",
       "</div>"
      ],
      "text/plain": [
       "     Stage Name       Full Name Korean Name K Stage Name Date of Birth  \\\n",
       "3          Aeji       Kwon Aeji         권애지           애지    25/10/1999   \n",
       "4          AhIn        Lee Ahin         이아인           아인    27/09/1999   \n",
       "5          Ahra         Go Ahra         고아라           아라    21/02/2001   \n",
       "6        Ahyeon     Jung Ahyeon         정아현           아현    11/04/2007   \n",
       "7        Ahyoon      Choi Subin         최수빈           아윤    23/10/2004   \n",
       "...         ...             ...         ...          ...           ...   \n",
       "1768       Zero  Nasukawa Shota     나스카와 쇼타           제로    20/01/2003   \n",
       "1771        Zin     Jin Hyunbin         진현빈           지인    31/08/2001   \n",
       "1774        Zoa      Cho Hyewon         조혜원           조아    31/05/2005   \n",
       "1775       Zuho        Bae Juho         백주호           주호     4/07/1996   \n",
       "1777       Zuny       Kim Joomi         김주미           주니     8/12/1994   \n",
       "\n",
       "             Group       Debut      Company      Country Second Country  \\\n",
       "3         Hash Tag  11/10/2017          LUK  South Korea            NaN   \n",
       "4         MOMOLAND   9/11/2016  Double Kick  South Korea            NaN   \n",
       "5         Favorite   5/07/2017       Astory  South Korea            NaN   \n",
       "6      BABYMONSTER   0/01/1900           YG  South Korea            NaN   \n",
       "7         BOTOPASS  26/08/2020      WKS ENE  South Korea            NaN   \n",
       "...            ...         ...          ...          ...            ...   \n",
       "1768         T1419  21/09/2007       CJ E&M        Japan            NaN   \n",
       "1771       bugAboo  25/10/2021       A team  South Korea            NaN   \n",
       "1774       Weeekly  30/07/2020       Play M  South Korea            NaN   \n",
       "1775           SF9   5/10/2016          FNC  South Korea            NaN   \n",
       "1777  Ladies' Code   7/03/2013      Polaris  South Korea            NaN   \n",
       "\n",
       "      Height  Weight Birthplace Other Group Former Group Gender  \n",
       "3      163.0     NaN      Daegu         NaN          NaN      F  \n",
       "4      160.0    44.0      Wonju         NaN          NaN      F  \n",
       "5        NaN     NaN      Yeosu         NaN          NaN      F  \n",
       "6        NaN     NaN        NaN         NaN          NaN      F  \n",
       "7        NaN     NaN        NaN         NaN          NaN      F  \n",
       "...      ...     ...        ...         ...          ...    ...  \n",
       "1768     NaN     NaN        NaN         NaN          NaN      M  \n",
       "1771     NaN     NaN        NaN         NaN          NaN      F  \n",
       "1774   170.0     NaN        NaN         NaN          NaN      F  \n",
       "1775     NaN     NaN        NaN         NaN          NaN      M  \n",
       "1777     NaN     NaN    Gwangju         NaN          NaN      F  \n",
       "\n",
       "[1307 rows x 16 columns]"
      ]
     },
     "execution_count": 54,
     "metadata": {},
     "output_type": "execute_result"
    }
   ],
   "source": [
    "# retrieving rows with values in the Weight column that are greater than 45 cm using negation.\n",
    "\n",
    "df[~(df['Weight'] > 45)]"
   ]
  },
  {
   "cell_type": "code",
   "execution_count": 55,
   "id": "345d523d-85df-4991-826a-ba34dd89a8b9",
   "metadata": {},
   "outputs": [
    {
     "data": {
      "text/html": [
       "<div>\n",
       "<style scoped>\n",
       "    .dataframe tbody tr th:only-of-type {\n",
       "        vertical-align: middle;\n",
       "    }\n",
       "\n",
       "    .dataframe tbody tr th {\n",
       "        vertical-align: top;\n",
       "    }\n",
       "\n",
       "    .dataframe thead th {\n",
       "        text-align: right;\n",
       "    }\n",
       "</style>\n",
       "<table border=\"1\" class=\"dataframe\">\n",
       "  <thead>\n",
       "    <tr style=\"text-align: right;\">\n",
       "      <th></th>\n",
       "      <th>Stage Name</th>\n",
       "      <th>Full Name</th>\n",
       "      <th>Korean Name</th>\n",
       "      <th>K Stage Name</th>\n",
       "      <th>Date of Birth</th>\n",
       "      <th>Group</th>\n",
       "      <th>Debut</th>\n",
       "      <th>Company</th>\n",
       "      <th>Country</th>\n",
       "      <th>Second Country</th>\n",
       "      <th>Height</th>\n",
       "      <th>Weight</th>\n",
       "      <th>Birthplace</th>\n",
       "      <th>Other Group</th>\n",
       "      <th>Former Group</th>\n",
       "      <th>Gender</th>\n",
       "    </tr>\n",
       "  </thead>\n",
       "  <tbody>\n",
       "    <tr>\n",
       "      <th>239</th>\n",
       "      <td>Dohee</td>\n",
       "      <td>Kwon Dohee</td>\n",
       "      <td>권도희</td>\n",
       "      <td>도희</td>\n",
       "      <td>1/08/2002</td>\n",
       "      <td>Cignature</td>\n",
       "      <td>4/02/2020</td>\n",
       "      <td>C9</td>\n",
       "      <td>South Korea</td>\n",
       "      <td>NaN</td>\n",
       "      <td>158.0</td>\n",
       "      <td>39.0</td>\n",
       "      <td>Seoul</td>\n",
       "      <td>NaN</td>\n",
       "      <td>NaN</td>\n",
       "      <td>F</td>\n",
       "    </tr>\n",
       "    <tr>\n",
       "      <th>240</th>\n",
       "      <td>Dohee</td>\n",
       "      <td>Min Dohee</td>\n",
       "      <td>민도희</td>\n",
       "      <td>도희</td>\n",
       "      <td>25/09/1994</td>\n",
       "      <td>Tiny-G</td>\n",
       "      <td>23/08/2012</td>\n",
       "      <td>GNG</td>\n",
       "      <td>South Korea</td>\n",
       "      <td>NaN</td>\n",
       "      <td>152.0</td>\n",
       "      <td>39.0</td>\n",
       "      <td>NaN</td>\n",
       "      <td>NaN</td>\n",
       "      <td>NaN</td>\n",
       "      <td>F</td>\n",
       "    </tr>\n",
       "    <tr>\n",
       "      <th>306</th>\n",
       "      <td>Eunchae</td>\n",
       "      <td>Son Eunchae</td>\n",
       "      <td>손은채</td>\n",
       "      <td>은채</td>\n",
       "      <td>6/10/1999</td>\n",
       "      <td>bugAboo</td>\n",
       "      <td>25/10/2021</td>\n",
       "      <td>A team</td>\n",
       "      <td>South Korea</td>\n",
       "      <td>NaN</td>\n",
       "      <td>154.0</td>\n",
       "      <td>38.0</td>\n",
       "      <td>Pohang</td>\n",
       "      <td>NaN</td>\n",
       "      <td>NaN</td>\n",
       "      <td>F</td>\n",
       "    </tr>\n",
       "    <tr>\n",
       "      <th>1395</th>\n",
       "      <td>Suhye</td>\n",
       "      <td>Kim Suhye</td>\n",
       "      <td>김수혜</td>\n",
       "      <td>수혜</td>\n",
       "      <td>13/12/2004</td>\n",
       "      <td>LIMELIGHT</td>\n",
       "      <td>17/02/2023</td>\n",
       "      <td>143</td>\n",
       "      <td>South Korea</td>\n",
       "      <td>NaN</td>\n",
       "      <td>158.0</td>\n",
       "      <td>40.0</td>\n",
       "      <td>Incheon</td>\n",
       "      <td>NaN</td>\n",
       "      <td>NaN</td>\n",
       "      <td>F</td>\n",
       "    </tr>\n",
       "    <tr>\n",
       "      <th>1714</th>\n",
       "      <td>Yubin</td>\n",
       "      <td>Cho Yubin</td>\n",
       "      <td>조유빈</td>\n",
       "      <td>유빈</td>\n",
       "      <td>9/10/1999</td>\n",
       "      <td>NaN</td>\n",
       "      <td>NaN</td>\n",
       "      <td>NaN</td>\n",
       "      <td>South Korea</td>\n",
       "      <td>NaN</td>\n",
       "      <td>156.0</td>\n",
       "      <td>40.0</td>\n",
       "      <td>NaN</td>\n",
       "      <td>NaN</td>\n",
       "      <td>Pink Fantasy</td>\n",
       "      <td>F</td>\n",
       "    </tr>\n",
       "  </tbody>\n",
       "</table>\n",
       "</div>"
      ],
      "text/plain": [
       "     Stage Name    Full Name Korean Name K Stage Name Date of Birth  \\\n",
       "239       Dohee   Kwon Dohee         권도희           도희     1/08/2002   \n",
       "240       Dohee    Min Dohee         민도희           도희    25/09/1994   \n",
       "306     Eunchae  Son Eunchae         손은채           은채     6/10/1999   \n",
       "1395      Suhye    Kim Suhye         김수혜           수혜    13/12/2004   \n",
       "1714      Yubin    Cho Yubin         조유빈           유빈     9/10/1999   \n",
       "\n",
       "          Group       Debut Company      Country Second Country  Height  \\\n",
       "239   Cignature   4/02/2020      C9  South Korea            NaN   158.0   \n",
       "240      Tiny-G  23/08/2012     GNG  South Korea            NaN   152.0   \n",
       "306     bugAboo  25/10/2021  A team  South Korea            NaN   154.0   \n",
       "1395  LIMELIGHT  17/02/2023     143  South Korea            NaN   158.0   \n",
       "1714        NaN         NaN     NaN  South Korea            NaN   156.0   \n",
       "\n",
       "      Weight Birthplace Other Group  Former Group Gender  \n",
       "239     39.0      Seoul         NaN           NaN      F  \n",
       "240     39.0        NaN         NaN           NaN      F  \n",
       "306     38.0     Pohang         NaN           NaN      F  \n",
       "1395    40.0    Incheon         NaN           NaN      F  \n",
       "1714    40.0        NaN         NaN  Pink Fantasy      F  "
      ]
     },
     "execution_count": 55,
     "metadata": {},
     "output_type": "execute_result"
    }
   ],
   "source": [
    "# calls 2 colums and their values\n",
    "\n",
    "df[(df['Height'] > 150) & (df['Weight'] <= 40)]"
   ]
  },
  {
   "cell_type": "code",
   "execution_count": 56,
   "id": "b16d4788-5b09-463b-a203-513ffc311cc1",
   "metadata": {},
   "outputs": [
    {
     "data": {
      "text/html": [
       "<div>\n",
       "<style scoped>\n",
       "    .dataframe tbody tr th:only-of-type {\n",
       "        vertical-align: middle;\n",
       "    }\n",
       "\n",
       "    .dataframe tbody tr th {\n",
       "        vertical-align: top;\n",
       "    }\n",
       "\n",
       "    .dataframe thead th {\n",
       "        text-align: right;\n",
       "    }\n",
       "</style>\n",
       "<table border=\"1\" class=\"dataframe\">\n",
       "  <thead>\n",
       "    <tr style=\"text-align: right;\">\n",
       "      <th></th>\n",
       "      <th>Stage Name</th>\n",
       "      <th>Full Name</th>\n",
       "      <th>Korean Name</th>\n",
       "      <th>K Stage Name</th>\n",
       "      <th>Date of Birth</th>\n",
       "      <th>Group</th>\n",
       "      <th>Debut</th>\n",
       "      <th>Company</th>\n",
       "      <th>Country</th>\n",
       "      <th>Second Country</th>\n",
       "      <th>Height</th>\n",
       "      <th>Weight</th>\n",
       "      <th>Birthplace</th>\n",
       "      <th>Other Group</th>\n",
       "      <th>Former Group</th>\n",
       "      <th>Gender</th>\n",
       "    </tr>\n",
       "  </thead>\n",
       "  <tbody>\n",
       "    <tr>\n",
       "      <th>0</th>\n",
       "      <td>2Soul</td>\n",
       "      <td>Kim Younghoon</td>\n",
       "      <td>김영훈</td>\n",
       "      <td>이솔</td>\n",
       "      <td>10/09/1997</td>\n",
       "      <td>7 O'clock</td>\n",
       "      <td>26/08/2014</td>\n",
       "      <td>Jungle</td>\n",
       "      <td>South Korea</td>\n",
       "      <td>NaN</td>\n",
       "      <td>172.0</td>\n",
       "      <td>55.0</td>\n",
       "      <td>NaN</td>\n",
       "      <td>NaN</td>\n",
       "      <td>NaN</td>\n",
       "      <td>M</td>\n",
       "    </tr>\n",
       "    <tr>\n",
       "      <th>1</th>\n",
       "      <td>A.M</td>\n",
       "      <td>Seong Hyunwoo</td>\n",
       "      <td>성현우</td>\n",
       "      <td>에이엠</td>\n",
       "      <td>31/12/1996</td>\n",
       "      <td>Limitless</td>\n",
       "      <td>9/07/2019</td>\n",
       "      <td>ONO</td>\n",
       "      <td>South Korea</td>\n",
       "      <td>NaN</td>\n",
       "      <td>181.0</td>\n",
       "      <td>62.0</td>\n",
       "      <td>NaN</td>\n",
       "      <td>NaN</td>\n",
       "      <td>NaN</td>\n",
       "      <td>M</td>\n",
       "    </tr>\n",
       "    <tr>\n",
       "      <th>2</th>\n",
       "      <td>Ace</td>\n",
       "      <td>Jang Wooyoung</td>\n",
       "      <td>장우영</td>\n",
       "      <td>에이스</td>\n",
       "      <td>28/08/1992</td>\n",
       "      <td>VAV</td>\n",
       "      <td>31/10/2015</td>\n",
       "      <td>A team</td>\n",
       "      <td>South Korea</td>\n",
       "      <td>NaN</td>\n",
       "      <td>177.0</td>\n",
       "      <td>63.0</td>\n",
       "      <td>NaN</td>\n",
       "      <td>NaN</td>\n",
       "      <td>NaN</td>\n",
       "      <td>M</td>\n",
       "    </tr>\n",
       "    <tr>\n",
       "      <th>3</th>\n",
       "      <td>Aeji</td>\n",
       "      <td>Kwon Aeji</td>\n",
       "      <td>권애지</td>\n",
       "      <td>애지</td>\n",
       "      <td>25/10/1999</td>\n",
       "      <td>Hash Tag</td>\n",
       "      <td>11/10/2017</td>\n",
       "      <td>LUK</td>\n",
       "      <td>South Korea</td>\n",
       "      <td>NaN</td>\n",
       "      <td>163.0</td>\n",
       "      <td>NaN</td>\n",
       "      <td>Daegu</td>\n",
       "      <td>NaN</td>\n",
       "      <td>NaN</td>\n",
       "      <td>F</td>\n",
       "    </tr>\n",
       "    <tr>\n",
       "      <th>4</th>\n",
       "      <td>AhIn</td>\n",
       "      <td>Lee Ahin</td>\n",
       "      <td>이아인</td>\n",
       "      <td>아인</td>\n",
       "      <td>27/09/1999</td>\n",
       "      <td>MOMOLAND</td>\n",
       "      <td>9/11/2016</td>\n",
       "      <td>Double Kick</td>\n",
       "      <td>South Korea</td>\n",
       "      <td>NaN</td>\n",
       "      <td>160.0</td>\n",
       "      <td>44.0</td>\n",
       "      <td>Wonju</td>\n",
       "      <td>NaN</td>\n",
       "      <td>NaN</td>\n",
       "      <td>F</td>\n",
       "    </tr>\n",
       "    <tr>\n",
       "      <th>...</th>\n",
       "      <td>...</td>\n",
       "      <td>...</td>\n",
       "      <td>...</td>\n",
       "      <td>...</td>\n",
       "      <td>...</td>\n",
       "      <td>...</td>\n",
       "      <td>...</td>\n",
       "      <td>...</td>\n",
       "      <td>...</td>\n",
       "      <td>...</td>\n",
       "      <td>...</td>\n",
       "      <td>...</td>\n",
       "      <td>...</td>\n",
       "      <td>...</td>\n",
       "      <td>...</td>\n",
       "      <td>...</td>\n",
       "    </tr>\n",
       "    <tr>\n",
       "      <th>1770</th>\n",
       "      <td>Zico</td>\n",
       "      <td>Woo Jiho</td>\n",
       "      <td>우지호</td>\n",
       "      <td>지코</td>\n",
       "      <td>14/09/1992</td>\n",
       "      <td>Block B</td>\n",
       "      <td>15/04/2011</td>\n",
       "      <td>KQ</td>\n",
       "      <td>South Korea</td>\n",
       "      <td>NaN</td>\n",
       "      <td>182.0</td>\n",
       "      <td>65.0</td>\n",
       "      <td>Seoul</td>\n",
       "      <td>NaN</td>\n",
       "      <td>NaN</td>\n",
       "      <td>M</td>\n",
       "    </tr>\n",
       "    <tr>\n",
       "      <th>1772</th>\n",
       "      <td>Ziu</td>\n",
       "      <td>Park Heejun</td>\n",
       "      <td>박희준</td>\n",
       "      <td>지우</td>\n",
       "      <td>16/06/1997</td>\n",
       "      <td>VAV</td>\n",
       "      <td>31/10/2015</td>\n",
       "      <td>A team</td>\n",
       "      <td>South Korea</td>\n",
       "      <td>NaN</td>\n",
       "      <td>185.0</td>\n",
       "      <td>70.0</td>\n",
       "      <td>NaN</td>\n",
       "      <td>NaN</td>\n",
       "      <td>NaN</td>\n",
       "      <td>M</td>\n",
       "    </tr>\n",
       "    <tr>\n",
       "      <th>1773</th>\n",
       "      <td>ZN</td>\n",
       "      <td>Bae Jinye</td>\n",
       "      <td>배진예</td>\n",
       "      <td>지엔</td>\n",
       "      <td>9/06/1994</td>\n",
       "      <td>LABOUM</td>\n",
       "      <td>27/08/2014</td>\n",
       "      <td>NH</td>\n",
       "      <td>South Korea</td>\n",
       "      <td>NaN</td>\n",
       "      <td>169.0</td>\n",
       "      <td>48.0</td>\n",
       "      <td>Bucheon</td>\n",
       "      <td>UNI.T</td>\n",
       "      <td>NaN</td>\n",
       "      <td>F</td>\n",
       "    </tr>\n",
       "    <tr>\n",
       "      <th>1774</th>\n",
       "      <td>Zoa</td>\n",
       "      <td>Cho Hyewon</td>\n",
       "      <td>조혜원</td>\n",
       "      <td>조아</td>\n",
       "      <td>31/05/2005</td>\n",
       "      <td>Weeekly</td>\n",
       "      <td>30/07/2020</td>\n",
       "      <td>Play M</td>\n",
       "      <td>South Korea</td>\n",
       "      <td>NaN</td>\n",
       "      <td>170.0</td>\n",
       "      <td>NaN</td>\n",
       "      <td>NaN</td>\n",
       "      <td>NaN</td>\n",
       "      <td>NaN</td>\n",
       "      <td>F</td>\n",
       "    </tr>\n",
       "    <tr>\n",
       "      <th>1776</th>\n",
       "      <td>Z-UK</td>\n",
       "      <td>Jeong Jaewook</td>\n",
       "      <td>정재욱</td>\n",
       "      <td>지욱</td>\n",
       "      <td>27/01/1993</td>\n",
       "      <td>NaN</td>\n",
       "      <td>NaN</td>\n",
       "      <td>NaN</td>\n",
       "      <td>South Korea</td>\n",
       "      <td>NaN</td>\n",
       "      <td>174.0</td>\n",
       "      <td>62.0</td>\n",
       "      <td>NaN</td>\n",
       "      <td>NaN</td>\n",
       "      <td>Bigflo</td>\n",
       "      <td>M</td>\n",
       "    </tr>\n",
       "  </tbody>\n",
       "</table>\n",
       "<p>835 rows × 16 columns</p>\n",
       "</div>"
      ],
      "text/plain": [
       "     Stage Name      Full Name Korean Name K Stage Name Date of Birth  \\\n",
       "0         2Soul  Kim Younghoon         김영훈           이솔    10/09/1997   \n",
       "1           A.M  Seong Hyunwoo         성현우          에이엠    31/12/1996   \n",
       "2           Ace  Jang Wooyoung         장우영          에이스    28/08/1992   \n",
       "3          Aeji      Kwon Aeji         권애지           애지    25/10/1999   \n",
       "4          AhIn       Lee Ahin         이아인           아인    27/09/1999   \n",
       "...         ...            ...         ...          ...           ...   \n",
       "1770       Zico       Woo Jiho         우지호           지코    14/09/1992   \n",
       "1772        Ziu    Park Heejun         박희준           지우    16/06/1997   \n",
       "1773         ZN      Bae Jinye         배진예           지엔     9/06/1994   \n",
       "1774        Zoa     Cho Hyewon         조혜원           조아    31/05/2005   \n",
       "1776       Z-UK  Jeong Jaewook         정재욱           지욱    27/01/1993   \n",
       "\n",
       "          Group       Debut      Company      Country Second Country  Height  \\\n",
       "0     7 O'clock  26/08/2014       Jungle  South Korea            NaN   172.0   \n",
       "1     Limitless   9/07/2019          ONO  South Korea            NaN   181.0   \n",
       "2           VAV  31/10/2015       A team  South Korea            NaN   177.0   \n",
       "3      Hash Tag  11/10/2017          LUK  South Korea            NaN   163.0   \n",
       "4      MOMOLAND   9/11/2016  Double Kick  South Korea            NaN   160.0   \n",
       "...         ...         ...          ...          ...            ...     ...   \n",
       "1770    Block B  15/04/2011           KQ  South Korea            NaN   182.0   \n",
       "1772        VAV  31/10/2015       A team  South Korea            NaN   185.0   \n",
       "1773     LABOUM  27/08/2014           NH  South Korea            NaN   169.0   \n",
       "1774    Weeekly  30/07/2020       Play M  South Korea            NaN   170.0   \n",
       "1776        NaN         NaN          NaN  South Korea            NaN   174.0   \n",
       "\n",
       "      Weight Birthplace Other Group Former Group Gender  \n",
       "0       55.0        NaN         NaN          NaN      M  \n",
       "1       62.0        NaN         NaN          NaN      M  \n",
       "2       63.0        NaN         NaN          NaN      M  \n",
       "3        NaN      Daegu         NaN          NaN      F  \n",
       "4       44.0      Wonju         NaN          NaN      F  \n",
       "...      ...        ...         ...          ...    ...  \n",
       "1770    65.0      Seoul         NaN          NaN      M  \n",
       "1772    70.0        NaN         NaN          NaN      M  \n",
       "1773    48.0    Bucheon       UNI.T          NaN      F  \n",
       "1774     NaN        NaN         NaN          NaN      F  \n",
       "1776    62.0        NaN         NaN       Bigflo      M  \n",
       "\n",
       "[835 rows x 16 columns]"
      ]
     },
     "execution_count": 56,
     "metadata": {},
     "output_type": "execute_result"
    }
   ],
   "source": [
    "# call 2 columns and their values ( | = or)\n",
    "\n",
    "df[(df['Height'] > 150) | (df['Weight'] <= 40)]"
   ]
  },
  {
   "cell_type": "code",
   "execution_count": 57,
   "id": "3f60fc45-2ef2-4755-8f75-2edb0d28362c",
   "metadata": {},
   "outputs": [
    {
     "data": {
      "text/html": [
       "<div>\n",
       "<style scoped>\n",
       "    .dataframe tbody tr th:only-of-type {\n",
       "        vertical-align: middle;\n",
       "    }\n",
       "\n",
       "    .dataframe tbody tr th {\n",
       "        vertical-align: top;\n",
       "    }\n",
       "\n",
       "    .dataframe thead th {\n",
       "        text-align: right;\n",
       "    }\n",
       "</style>\n",
       "<table border=\"1\" class=\"dataframe\">\n",
       "  <thead>\n",
       "    <tr style=\"text-align: right;\">\n",
       "      <th></th>\n",
       "      <th>Stage Name</th>\n",
       "      <th>Group</th>\n",
       "      <th>Height</th>\n",
       "    </tr>\n",
       "  </thead>\n",
       "  <tbody>\n",
       "    <tr>\n",
       "      <th>51</th>\n",
       "      <td>Baek Seung</td>\n",
       "      <td>EPEX</td>\n",
       "      <td>186.0</td>\n",
       "    </tr>\n",
       "    <tr>\n",
       "      <th>578</th>\n",
       "      <td>Hyunsuk</td>\n",
       "      <td>CIX</td>\n",
       "      <td>188.0</td>\n",
       "    </tr>\n",
       "    <tr>\n",
       "      <th>695</th>\n",
       "      <td>Jihun</td>\n",
       "      <td>KNK</td>\n",
       "      <td>186.0</td>\n",
       "    </tr>\n",
       "    <tr>\n",
       "      <th>792</th>\n",
       "      <td>Jukang</td>\n",
       "      <td>JWiiver</td>\n",
       "      <td>186.0</td>\n",
       "    </tr>\n",
       "    <tr>\n",
       "      <th>896</th>\n",
       "      <td>Kris</td>\n",
       "      <td>NaN</td>\n",
       "      <td>187.0</td>\n",
       "    </tr>\n",
       "    <tr>\n",
       "      <th>915</th>\n",
       "      <td>Kyungmin</td>\n",
       "      <td>8TURN</td>\n",
       "      <td>187.0</td>\n",
       "    </tr>\n",
       "    <tr>\n",
       "      <th>964</th>\n",
       "      <td>Lou</td>\n",
       "      <td>VAV</td>\n",
       "      <td>187.0</td>\n",
       "    </tr>\n",
       "    <tr>\n",
       "      <th>1235</th>\n",
       "      <td>Seoham</td>\n",
       "      <td>KNK</td>\n",
       "      <td>190.0</td>\n",
       "    </tr>\n",
       "    <tr>\n",
       "      <th>1415</th>\n",
       "      <td>Sunghyun</td>\n",
       "      <td>IN2IT</td>\n",
       "      <td>186.0</td>\n",
       "    </tr>\n",
       "    <tr>\n",
       "      <th>1479</th>\n",
       "      <td>Takuya</td>\n",
       "      <td>CROSS GENE</td>\n",
       "      <td>187.0</td>\n",
       "    </tr>\n",
       "    <tr>\n",
       "      <th>1534</th>\n",
       "      <td>Wonjun</td>\n",
       "      <td>ABLUE</td>\n",
       "      <td>187.0</td>\n",
       "    </tr>\n",
       "  </tbody>\n",
       "</table>\n",
       "</div>"
      ],
      "text/plain": [
       "      Stage Name       Group  Height\n",
       "51    Baek Seung        EPEX   186.0\n",
       "578      Hyunsuk         CIX   188.0\n",
       "695        Jihun         KNK   186.0\n",
       "792       Jukang     JWiiver   186.0\n",
       "896         Kris         NaN   187.0\n",
       "915     Kyungmin       8TURN   187.0\n",
       "964          Lou         VAV   187.0\n",
       "1235      Seoham         KNK   190.0\n",
       "1415    Sunghyun       IN2IT   186.0\n",
       "1479      Takuya  CROSS GENE   187.0\n",
       "1534      Wonjun       ABLUE   187.0"
      ]
     },
     "execution_count": 57,
     "metadata": {},
     "output_type": "execute_result"
    }
   ],
   "source": [
    "# calls the stage name, group, and height columns when the height is greater than 185 and the gender is male.\n",
    "\n",
    "df [['Stage Name', 'Group', 'Height']] [(df['Height'] > 185) | (df['Gender'] == 'male')]"
   ]
  }
 ],
 "metadata": {
  "kernelspec": {
   "display_name": "Python 3 (ipykernel)",
   "language": "python",
   "name": "python3"
  },
  "language_info": {
   "codemirror_mode": {
    "name": "ipython",
    "version": 3
   },
   "file_extension": ".py",
   "mimetype": "text/x-python",
   "name": "python",
   "nbconvert_exporter": "python",
   "pygments_lexer": "ipython3",
   "version": "3.11.7"
  }
 },
 "nbformat": 4,
 "nbformat_minor": 5
}

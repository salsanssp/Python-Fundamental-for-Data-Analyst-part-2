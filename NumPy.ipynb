{
 "cells": [
  {
   "cell_type": "markdown",
   "id": "b1f0d2d7-a0b8-4c85-868a-4c752a637973",
   "metadata": {},
   "source": [
    "# Numpy"
   ]
  },
  {
   "cell_type": "markdown",
   "id": "af420555-ee9d-48f5-b6bb-b3482cce4b33",
   "metadata": {},
   "source": [
    "NumPy is a Python library used for working with arrays. \n",
    "It also has functions for working in domain of linear algebra, fourier transform, and matrice"
   ]
  },
  {
   "cell_type": "markdown",
   "id": "fbb6f940-f053-47c2-b7a4-214fa30f032e",
   "metadata": {},
   "source": [
    "In Python we have lists that serve the purpose of arrays, but they are slow to process. NumPy aims to provide an array object that is up to 50x faster than traditional Python lists. The array object in NumPy is called ndarray, it provides a lot of supporting functions that make working with ndarray very easy.a Arrays are very frequently used in data science, where speed and resources are very important. Is a PyNumPy arrays are stored at one continuous place in memory unlike lists, so processes can access and manipulate them very efficiently."
   ]
  },
  {
   "cell_type": "markdown",
   "id": "6ae57790-5eac-4e6d-bace-6468f9b51835",
   "metadata": {},
   "source": [
    "This behavior is called locality of reference in computer science.thon library used for working with arrays. It also has functions for working in domain of linear algebra, fourier transform, and matrices."
   ]
  },
  {
   "cell_type": "markdown",
   "id": "06d80ef0-962f-49f1-a068-9b27335173d2",
   "metadata": {},
   "source": [
    "***"
   ]
  },
  {
   "cell_type": "code",
   "execution_count": 2,
   "id": "7409e247-0179-438e-bc40-ccae0c7e105c",
   "metadata": {},
   "outputs": [],
   "source": [
    "# The first thing is import NumPy\n",
    "import numpy as np"
   ]
  },
  {
   "cell_type": "code",
   "execution_count": 5,
   "id": "c1ab571f-8276-4e50-99bd-15c3e46ce617",
   "metadata": {},
   "outputs": [
    {
     "name": "stdout",
     "output_type": "stream",
     "text": [
      "1.26.4\n"
     ]
    }
   ],
   "source": [
    "## For collaborate with people, you should samain version numpy \n",
    "# check the version\n",
    "\n",
    "print(np.__version__)"
   ]
  },
  {
   "cell_type": "code",
   "execution_count": 6,
   "id": "ddd78286-5533-4089-8321-2ae6730d9787",
   "metadata": {},
   "outputs": [],
   "source": [
    "# make a numpy array\n",
    "\n",
    "a = np.array([1,2,3,4,5])"
   ]
  },
  {
   "cell_type": "code",
   "execution_count": 7,
   "id": "b34cfc4e-6ef2-433b-b8be-450c8eea1bb4",
   "metadata": {},
   "outputs": [
    {
     "name": "stdout",
     "output_type": "stream",
     "text": [
      "[1 2 3 4 5]\n"
     ]
    }
   ],
   "source": [
    "print(a)"
   ]
  },
  {
   "cell_type": "code",
   "execution_count": 8,
   "id": "a5004d96-5970-43bb-80b8-f4855b5ed7be",
   "metadata": {},
   "outputs": [
    {
     "name": "stdout",
     "output_type": "stream",
     "text": [
      "<class 'numpy.ndarray'>\n"
     ]
    }
   ],
   "source": [
    "print(type(a))"
   ]
  },
  {
   "cell_type": "code",
   "execution_count": 9,
   "id": "aaa6fec9-508b-4124-92dc-756017f8cff3",
   "metadata": {},
   "outputs": [],
   "source": [
    "# use a tuple to create a Numpy array\n",
    "\n",
    "b = np.array((\"Class B\", \"Group 1\", \"Data Analyst\"))"
   ]
  },
  {
   "cell_type": "code",
   "execution_count": 10,
   "id": "05cccdc5-2304-4eae-b7eb-02807c2444fe",
   "metadata": {},
   "outputs": [
    {
     "name": "stdout",
     "output_type": "stream",
     "text": [
      "['Class B' 'Group 1' 'Data Analyst']\n"
     ]
    }
   ],
   "source": [
    "print(b)"
   ]
  },
  {
   "cell_type": "code",
   "execution_count": 11,
   "id": "70d4ba90-bea7-4aca-b31a-be8101da9632",
   "metadata": {},
   "outputs": [
    {
     "name": "stdout",
     "output_type": "stream",
     "text": [
      "<class 'numpy.ndarray'>\n"
     ]
    }
   ],
   "source": [
    "print(type(b))"
   ]
  },
  {
   "cell_type": "markdown",
   "id": "b358cc60-23c8-4673-803f-80fdc56d63e2",
   "metadata": {},
   "source": [
    "## Dimension"
   ]
  },
  {
   "cell_type": "markdown",
   "id": "6864b53c-44de-48a0-8c99-9c31da2c34c4",
   "metadata": {},
   "source": [
    "***"
   ]
  },
  {
   "cell_type": "markdown",
   "id": "10be34ff-5d98-4e5e-95dd-e2fb27adb778",
   "metadata": {},
   "source": [
    "#### Dimension in Arrays"
   ]
  },
  {
   "cell_type": "markdown",
   "id": "80c27993-f8ef-4e55-8888-482e64865e4d",
   "metadata": {},
   "source": [
    "Dimensions are groups of attributes based on columns from tables or views in a data source view. Dimensions exist independent of a cube, can be used in multiple cubes, can be used multiple times in a single cube. A dimension that exists independent of a cube is called a database dimension and an instance of a database dimension within a cube is called a cube dimension."
   ]
  },
  {
   "cell_type": "markdown",
   "id": "6e217734-3f7d-42e3-b0b5-19542a235da8",
   "metadata": {},
   "source": [
    "A dimension in Arrays is one level of array depth (nested arrays)."
   ]
  },
  {
   "cell_type": "code",
   "execution_count": 19,
   "id": "4698c18a-bd61-4159-956b-a54d3067c551",
   "metadata": {},
   "outputs": [
    {
     "name": "stdout",
     "output_type": "stream",
     "text": [
      "25\n"
     ]
    }
   ],
   "source": [
    "# 0-D Arrays\n",
    "\n",
    "import numpy as np\n",
    "\n",
    "a = np.array(25)\n",
    "print(a)"
   ]
  },
  {
   "cell_type": "code",
   "execution_count": 36,
   "id": "44eaf8dd-886e-4216-8364-fb82e8b0cdb8",
   "metadata": {},
   "outputs": [
    {
     "name": "stdout",
     "output_type": "stream",
     "text": [
      "[ 2  4  6  8 10]\n"
     ]
    }
   ],
   "source": [
    "# 1-D Arrays\n",
    "\n",
    "import numpy as np\n",
    "\n",
    "b = np.array([2,4,6,8,10])\n",
    "print(b)"
   ]
  },
  {
   "cell_type": "code",
   "execution_count": 39,
   "id": "d025d30a-23be-44e1-9e51-c69cee5241c5",
   "metadata": {},
   "outputs": [
    {
     "name": "stdout",
     "output_type": "stream",
     "text": [
      "14\n"
     ]
    }
   ],
   "source": [
    "#call the two and three element\n",
    "print(b[2] + b[3])"
   ]
  },
  {
   "cell_type": "code",
   "execution_count": 31,
   "id": "162785b5-b9aa-4b20-ba2a-9357e67e80ec",
   "metadata": {},
   "outputs": [
    {
     "name": "stdout",
     "output_type": "stream",
     "text": [
      "[[ 3  5  7]\n",
      " [ 9 11 13]]\n"
     ]
    }
   ],
   "source": [
    "# create a 2-D array containing two array\n",
    "\n",
    "c = np.array([[3,5,7], [9,11,13]])\n",
    "print(c)"
   ]
  },
  {
   "cell_type": "code",
   "execution_count": 35,
   "id": "82852d33-b401-41d2-afba-fd1b26b4574f",
   "metadata": {},
   "outputs": [
    {
     "name": "stdout",
     "output_type": "stream",
     "text": [
      "3th element from 2nd row is: 13\n"
     ]
    }
   ],
   "source": [
    "#make your word\n",
    "c = np.array([[3,5,7], [9,11,13]])\n",
    "print('3th element from 2nd row is:', c [1,2])"
   ]
  },
  {
   "cell_type": "code",
   "execution_count": 24,
   "id": "c48ec9ac-3072-4a63-95e4-88bcb9bf79f1",
   "metadata": {},
   "outputs": [
    {
     "name": "stdout",
     "output_type": "stream",
     "text": [
      "[[[ 3  5  7]\n",
      "  [11 13 15]]\n",
      "\n",
      " [[ 3  5  7]\n",
      "  [11 13 15]]]\n"
     ]
    }
   ],
   "source": [
    "# create a 3-D array with two 2-D arrays, both contain two array\n",
    "\n",
    "d = np.array([[[3,5,7], [11,13,15]], [[3,5,7], [11,13,15]]])\n",
    "print(d)"
   ]
  },
  {
   "cell_type": "code",
   "execution_count": 26,
   "id": "f904c171-0b7d-48c5-8b1b-557bb3181e63",
   "metadata": {},
   "outputs": [
    {
     "name": "stdout",
     "output_type": "stream",
     "text": [
      "0\n",
      "1\n",
      "2\n",
      "3\n"
     ]
    }
   ],
   "source": [
    "# Check how many dimension the arrays have\n",
    "\n",
    "a = np.array(25)\n",
    "b = np.array([2,4,6,8,10])\n",
    "c = np.array([[3,5,7], [9,11,13]])\n",
    "d = np.array([[[3,5,7], [11,13,15]], [[3,5,7], [11,13,15]]])\n",
    "\n",
    "print(a.ndim)\n",
    "print(b.ndim)\n",
    "print(c.ndim)\n",
    "print(d.ndim)"
   ]
  },
  {
   "cell_type": "code",
   "execution_count": 3,
   "id": "d4fa5c17-f436-44f4-b634-9704bee3e134",
   "metadata": {},
   "outputs": [
    {
     "name": "stdout",
     "output_type": "stream",
     "text": [
      "16\n"
     ]
    }
   ],
   "source": [
    "# Make 4-D array\n",
    "arr = np.array([[[[11,12,13], [14,15,16]], [[1,2,3], [4,5,6]]]])\n",
    "print(arr[0,0,1,2])\n",
    "\n",
    "#"
   ]
  },
  {
   "cell_type": "code",
   "execution_count": 4,
   "id": "6ed72cf9-4153-49e7-be35-d939d36e70a5",
   "metadata": {},
   "outputs": [
    {
     "name": "stdout",
     "output_type": "stream",
     "text": [
      "4\n"
     ]
    }
   ],
   "source": [
    "print(arr.ndim)"
   ]
  }
 ],
 "metadata": {
  "kernelspec": {
   "display_name": "Python 3 (ipykernel)",
   "language": "python",
   "name": "python3"
  },
  "language_info": {
   "codemirror_mode": {
    "name": "ipython",
    "version": 3
   },
   "file_extension": ".py",
   "mimetype": "text/x-python",
   "name": "python",
   "nbconvert_exporter": "python",
   "pygments_lexer": "ipython3",
   "version": "3.11.7"
  }
 },
 "nbformat": 4,
 "nbformat_minor": 5
}

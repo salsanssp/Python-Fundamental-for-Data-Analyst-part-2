{
 "cells": [
  {
   "cell_type": "raw",
   "id": "f8c83387-1b84-4b10-8aa2-d82c17392aad",
   "metadata": {},
   "source": [
    "OPEN FILE"
   ]
  },
  {
   "cell_type": "markdown",
   "id": "6bc1bcf5-6ea2-4963-b5fb-0b6682cd0dab",
   "metadata": {},
   "source": [
    "To open the file, use the built-in open() function.\n",
    "The open() function returns a file object, which has a read() method for reading the content of the file"
   ]
  },
  {
   "cell_type": "code",
   "execution_count": 7,
   "id": "09899320-8064-43a8-b855-5a2a54e1672e",
   "metadata": {},
   "outputs": [],
   "source": [
    "workfile = open ('stok.txt' , 'r')"
   ]
  },
  {
   "cell_type": "code",
   "execution_count": 8,
   "id": "34a90de8-3303-4027-bce1-9a7bacab7e57",
   "metadata": {},
   "outputs": [],
   "source": [
    "worklifecontents = workfile.read()"
   ]
  },
  {
   "cell_type": "code",
   "execution_count": 9,
   "id": "e6f9d806-fa30-4949-9a7e-c6e73c592980",
   "metadata": {},
   "outputs": [
    {
     "name": "stdout",
     "output_type": "stream",
     "text": [
      "Baju, 20000, 10\n",
      "Celana, 50000, 35\n",
      "Blouse, 245000, 10\n",
      "Rok, 35000, 24\n"
     ]
    }
   ],
   "source": [
    "print(worklifecontents)"
   ]
  },
  {
   "cell_type": "markdown",
   "id": "e07cc23a-d99d-4bbd-9215-b4cc1fabf4f8",
   "metadata": {},
   "source": [
    "READ FILE"
   ]
  },
  {
   "cell_type": "code",
   "execution_count": 10,
   "id": "c6226b9b-d123-4f59-b0be-c0f302ae0996",
   "metadata": {},
   "outputs": [
    {
     "name": "stdout",
     "output_type": "stream",
     "text": [
      "Baju, 20000, 10\n",
      "\n"
     ]
    }
   ],
   "source": [
    "workfile = open ('stok.txt' , 'r')\n",
    "workfile_1 = workfile.readline()\n",
    "print(workfile_1)"
   ]
  },
  {
   "cell_type": "code",
   "execution_count": 11,
   "id": "6cc7ecb9-2f98-48f4-b988-d0ce93a5a564",
   "metadata": {},
   "outputs": [
    {
     "name": "stdout",
     "output_type": "stream",
     "text": [
      "Celana, 50000, 35\n",
      "\n"
     ]
    }
   ],
   "source": [
    "workfile_2 = workfile.readline()\n",
    "print(workfile_2)"
   ]
  },
  {
   "cell_type": "code",
   "execution_count": 12,
   "id": "ddaa7167-8dfa-4ec6-8fa2-c30909b86518",
   "metadata": {},
   "outputs": [
    {
     "name": "stdout",
     "output_type": "stream",
     "text": [
      "Blouse, 245000, 10\n",
      "\n"
     ]
    }
   ],
   "source": [
    "workfile_3 = workfile.readline()\n",
    "print(workfile_3)"
   ]
  },
  {
   "cell_type": "markdown",
   "id": "4058218f-2e38-464a-a733-70b7694b5762",
   "metadata": {},
   "source": [
    "CLOSE FILE"
   ]
  },
  {
   "cell_type": "code",
   "execution_count": 13,
   "id": "1d01d827-95b2-446d-9bef-d676519e6b4c",
   "metadata": {},
   "outputs": [],
   "source": [
    "workfile.close()"
   ]
  }
 ],
 "metadata": {
  "kernelspec": {
   "display_name": "Python 3 (ipykernel)",
   "language": "python",
   "name": "python3"
  },
  "language_info": {
   "codemirror_mode": {
    "name": "ipython",
    "version": 3
   },
   "file_extension": ".py",
   "mimetype": "text/x-python",
   "name": "python",
   "nbconvert_exporter": "python",
   "pygments_lexer": "ipython3",
   "version": "3.11.7"
  },
  "widgets": {
   "application/vnd.jupyter.widget-state+json": {
    "state": {},
    "version_major": 2,
    "version_minor": 0
   }
  }
 },
 "nbformat": 4,
 "nbformat_minor": 5
}

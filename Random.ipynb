{
 "cells": [
  {
   "cell_type": "markdown",
   "id": "4670a7a6-a209-4021-8fa3-0aa833d8afe2",
   "metadata": {},
   "source": [
    "Random Library"
   ]
  },
  {
   "cell_type": "markdown",
   "id": "2a08be4b-caa5-42be-bffe-cf30abb5a995",
   "metadata": {},
   "source": [
    "Random library in Python is used for generating random numbers. It provides various functions for generating random integers, selecting random elements from a list, shuffling sequences, and more."
   ]
  },
  {
   "cell_type": "code",
   "execution_count": 1,
   "id": "9eeada64-f2b9-42ca-84f5-44a4f09091ae",
   "metadata": {},
   "outputs": [],
   "source": [
    "from random import randint"
   ]
  },
  {
   "cell_type": "code",
   "execution_count": 4,
   "id": "47ced1ff-6380-41ab-a9be-e4df1bdf75f5",
   "metadata": {},
   "outputs": [
    {
     "name": "stdout",
     "output_type": "stream",
     "text": [
      "Random Nilai 0 adalah 86\n",
      "Random Nilai 1 adalah 88\n",
      "Random Nilai 2 adalah 88\n",
      "Random Nilai 3 adalah 88\n",
      "Random Nilai 4 adalah 87\n"
     ]
    }
   ],
   "source": [
    "for i in range(5):\n",
    "    print (f\"Random Nilai {i} adalah {randint(80, 90)}\")  "
   ]
  },
  {
   "cell_type": "code",
   "execution_count": 12,
   "id": "b36428cd-821c-4553-ae78-407382148ad7",
   "metadata": {},
   "outputs": [],
   "source": [
    "import datetime"
   ]
  },
  {
   "cell_type": "code",
   "execution_count": 13,
   "id": "3326f571-11ce-4665-a0fd-6d1dc2fa50e7",
   "metadata": {},
   "outputs": [],
   "source": [
    "todayWithTime = datetime.datetime.today()"
   ]
  },
  {
   "cell_type": "code",
   "execution_count": 14,
   "id": "590af04d-257a-4565-8f3f-fd354bac8593",
   "metadata": {},
   "outputs": [
    {
     "data": {
      "text/plain": [
       "datetime.datetime(2024, 4, 19, 8, 30, 38, 107845)"
      ]
     },
     "execution_count": 14,
     "metadata": {},
     "output_type": "execute_result"
    }
   ],
   "source": [
    "todayWithTime"
   ]
  },
  {
   "cell_type": "code",
   "execution_count": 26,
   "id": "04aeb4e6-3aa2-4515-b910-07f7a6760a04",
   "metadata": {},
   "outputs": [
    {
     "data": {
      "text/plain": [
       "datetime.date(2024, 4, 19)"
      ]
     },
     "execution_count": 26,
     "metadata": {},
     "output_type": "execute_result"
    }
   ],
   "source": [
    "import datetime\n",
    "todayWithTime = datetime.date.today()\n",
    "todayWithTime"
   ]
  },
  {
   "cell_type": "code",
   "execution_count": 28,
   "id": "bf384db7-c7b6-463b-be3d-30c18d22398f",
   "metadata": {},
   "outputs": [],
   "source": [
    "formatting_time = datetime.datetime.strftime(todayWithTime, \"%H : %M : %S\")"
   ]
  },
  {
   "cell_type": "code",
   "execution_count": 29,
   "id": "8473be38-4b78-45d2-b64b-5dc510f759df",
   "metadata": {},
   "outputs": [
    {
     "data": {
      "text/plain": [
       "'00 : 00 : 00'"
      ]
     },
     "execution_count": 29,
     "metadata": {},
     "output_type": "execute_result"
    }
   ],
   "source": [
    "formatting_time"
   ]
  },
  {
   "cell_type": "code",
   "execution_count": 23,
   "id": "8a38b487-f92d-4c49-83f2-daec9af2456b",
   "metadata": {},
   "outputs": [],
   "source": [
    "formatting_date = datetime.datetime.strftime(todayWithTime, \"%m/%d/%y\")"
   ]
  },
  {
   "cell_type": "code",
   "execution_count": 24,
   "id": "00fe366d-298b-4d53-9c8d-a2f5a9511fab",
   "metadata": {},
   "outputs": [
    {
     "data": {
      "text/plain": [
       "'04/19/24'"
      ]
     },
     "execution_count": 24,
     "metadata": {},
     "output_type": "execute_result"
    }
   ],
   "source": [
    "formatting_date"
   ]
  },
  {
   "cell_type": "code",
   "execution_count": 25,
   "id": "bfd8d0db-5088-436d-b763-82c49c84ba72",
   "metadata": {},
   "outputs": [
    {
     "name": "stdout",
     "output_type": "stream",
     "text": [
      "Random num 0 is 8\n",
      "Random num 1 is 5\n",
      "Random num 2 is 7\n",
      "Random num 3 is 3\n",
      "Random num 4 is 1\n",
      "Random num 5 is 7\n",
      "Random num 6 is 8\n",
      "Random num 7 is 2\n",
      "Random num 8 is 3\n",
      "Random num 9 is 2\n"
     ]
    }
   ],
   "source": [
    "import random\n",
    "\n",
    "random_nums = list(range(1, 11))\n",
    "\n",
    "for i in range(10):\n",
    "    random_choice = random.sample(random_nums, 1)[0]\n",
    "    print(f\"Random num {i} is {random_choice}\")"
   ]
  },
  {
   "cell_type": "code",
   "execution_count": null,
   "id": "60cd85bc-dcce-4c0c-af6e-dac8d2667cbe",
   "metadata": {},
   "outputs": [],
   "source": []
  }
 ],
 "metadata": {
  "kernelspec": {
   "display_name": "Python 3 (ipykernel)",
   "language": "python",
   "name": "python3"
  },
  "language_info": {
   "codemirror_mode": {
    "name": "ipython",
    "version": 3
   },
   "file_extension": ".py",
   "mimetype": "text/x-python",
   "name": "python",
   "nbconvert_exporter": "python",
   "pygments_lexer": "ipython3",
   "version": "3.11.7"
  },
  "widgets": {
   "application/vnd.jupyter.widget-state+json": {
    "state": {},
    "version_major": 2,
    "version_minor": 0
   }
  }
 },
 "nbformat": 4,
 "nbformat_minor": 5
}
